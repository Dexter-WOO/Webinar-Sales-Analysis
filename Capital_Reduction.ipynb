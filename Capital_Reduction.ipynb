{
  "nbformat": 4,
  "nbformat_minor": 0,
  "metadata": {
    "colab": {
      "name": "Capital Reduction",
      "provenance": [],
      "collapsed_sections": [],
      "include_colab_link": true
    },
    "kernelspec": {
      "display_name": "Python 3",
      "name": "python3"
    },
    "language_info": {
      "name": "python"
    }
  },
  "cells": [
    {
      "cell_type": "markdown",
      "metadata": {
        "id": "view-in-github",
        "colab_type": "text"
      },
      "source": [
        "<a href=\"https://colab.research.google.com/github/Dexter-WOO/Learnabee-Capital-Reduction/blob/main/Capital_Reduction.ipynb\" target=\"_parent\"><img src=\"https://colab.research.google.com/assets/colab-badge.svg\" alt=\"Open In Colab\"/></a>"
      ]
    },
    {
      "cell_type": "markdown",
      "metadata": {
        "id": "KTfKcRFp6NdM"
      },
      "source": [
        "**[READ ME]**\n",
        "\n",
        "*   At the start of each code block, please comment *#YourName* \n",
        "*   provide a comment to briefly describe what your code does :)\n",
        "*   Just pm if you encounter any problems\n",
        "\n",
        "\n",
        "\n",
        "**REMEMBER** to click File --> Save before leaving!! \n",
        "\n",
        "*p/s: I learnt to save the hard way  :') *"
      ]
    },
    {
      "cell_type": "code",
      "metadata": {
        "id": "2GwDh-n96_hU"
      },
      "source": [
        "# Cassandra \n",
        "# import all necessary libraries\n",
        "import pandas as pd\n",
        "import datetime\n",
        "import time\n",
        "import matplotlib.pyplot as plt"
      ],
      "execution_count": null,
      "outputs": []
    },
    {
      "cell_type": "code",
      "metadata": {
        "id": "ciLQ-HUSibg4"
      },
      "source": [
        "# Dexter\n",
        "# read all csv files from GitHub\n",
        "all_course_paid_bankin = pd.read_csv('https://raw.githubusercontent.com/Dexter-WOO/Learnabee-Capital-Reduction/main/all_course_paid_bankin.csv?token=AKI6TNFIVEDHXSDM3MNTZ7DBIFAPY')\n",
        "free_reg = pd.read_csv('https://raw.githubusercontent.com/Dexter-WOO/Learnabee-Capital-Reduction/main/free_reg.csv?token=AKI6TNCWSMJHT5DMOVMV5GLBIFARS', keep_default_na=False)\n",
        "paid = pd.read_csv('https://raw.githubusercontent.com/Dexter-WOO/Learnabee-Capital-Reduction/main/paid%20(2).csv?token=AKI6TNFJ5J3Q237CZL7Q67TBIFAS2')\n",
        "paid_cred = pd.read_csv('https://raw.githubusercontent.com/Dexter-WOO/Learnabee-Capital-Reduction/main/paid_cred%20(2).csv?token=AKI6TNAS6P5TUZ42GFFOWVTBIFAUQ')\n",
        "activecam_sub = pd.read_csv('https://raw.githubusercontent.com/Dexter-WOO/Learnabee-Capital-Reduction/main/activecam_sub%20(2).csv?token=AKI6TNGLQMDN7FJSQJFOH5TBIFAVS')\n"
      ],
      "execution_count": null,
      "outputs": []
    },
    {
      "cell_type": "code",
      "metadata": {
        "id": "VO-LgOedG8nP"
      },
      "source": [
        "free_reg_after=free_reg"
      ],
      "execution_count": null,
      "outputs": []
    },
    {
      "cell_type": "code",
      "metadata": {
        "id": "rfNip_vrp4EK"
      },
      "source": [
        "activecam_sub1= activecam_sub[activecam_sub[\"Date Created\"] >= \"2021-07-13\"]"
      ],
      "execution_count": null,
      "outputs": []
    },
    {
      "cell_type": "code",
      "metadata": {
        "id": "GW9WrRRemvE_"
      },
      "source": [
        "# Dexter\n",
        "# Since all_course_paid_bankin contains all courses, we need to extract the Capital Reduction course from all_course_paid_bankin and save it as paid_bankin\n",
        "paid_bankin = all_course_paid_bankin[all_course_paid_bankin['Course Name'].str.contains(\"capital\", case = False, na = False)]\n",
        "# Extract ActiveCampaign subscribers that subscribed before 13/7\n",
        "activecam_sub = activecam_sub[activecam_sub[\"Date Created\"] < \"2021-07-13\"]\n"
      ],
      "execution_count": null,
      "outputs": []
    },
    {
      "cell_type": "code",
      "metadata": {
        "id": "FBXF_Tt9TZEW"
      },
      "source": [
        "# Dexter\n",
        "# Refer to Trinly, extract all columns needed\n",
        "paid_bankin = paid_bankin[[\"Timestamp\", \"Email Address\", \"Your Name (Put in Learnabee)\", \"Your Whatsapp Number\"]]\n",
        "free_reg = free_reg[[\"First name\", \"Last name\", \"Phone number\", \"Email\", \"Registration date\", \"Attended live\"]]\n",
        "paid = paid[[\"fullname\", \"email\"]]\n",
        "paid_cred = paid_cred[[\"purchased_at\", \"user\", \"user_email\"]]\n",
        "activecam_sub = activecam_sub[[\"Email\"]]"
      ],
      "execution_count": null,
      "outputs": []
    },
    {
      "cell_type": "code",
      "metadata": {
        "id": "pwxHtwJzh9J-",
        "colab": {
          "base_uri": "https://localhost:8080/",
          "height": 524
        },
        "outputId": "0f9f7377-9d6d-42bf-b0b3-a84f2dd02c74"
      },
      "source": [
        "#Trinly\n",
        "#Data Cleansing - Make email address lower case\n",
        "free_reg[\"Email\"] = free_reg[\"Email\"].str.lower()\n",
        "free_reg\n",
        "# Data Cleansing - Join First name and Last name into Name, then capitalise first letters of both\n",
        "free_reg[\"Name\"] = free_reg[\"First name\"] + \" \" + free_reg[\"Last name\"]\n",
        "free_reg[\"Name\"] = free_reg['Name'].str.title()\n",
        "# rearrange collumns to keep \n",
        "free_reg1 = free_reg[[\"Name\", \"Phone number\", \"Email\", \"Registration date\", \"Attended live\"]]\n",
        "free_reg1.head()\n",
        "# Dexter\n",
        "# Changed the code a little bit so the error disappeared"
      ],
      "execution_count": null,
      "outputs": [
        {
          "output_type": "stream",
          "name": "stderr",
          "text": [
            "/usr/local/lib/python3.7/dist-packages/ipykernel_launcher.py:3: SettingWithCopyWarning: \n",
            "A value is trying to be set on a copy of a slice from a DataFrame.\n",
            "Try using .loc[row_indexer,col_indexer] = value instead\n",
            "\n",
            "See the caveats in the documentation: https://pandas.pydata.org/pandas-docs/stable/user_guide/indexing.html#returning-a-view-versus-a-copy\n",
            "  This is separate from the ipykernel package so we can avoid doing imports until\n",
            "/usr/local/lib/python3.7/dist-packages/ipykernel_launcher.py:6: SettingWithCopyWarning: \n",
            "A value is trying to be set on a copy of a slice from a DataFrame.\n",
            "Try using .loc[row_indexer,col_indexer] = value instead\n",
            "\n",
            "See the caveats in the documentation: https://pandas.pydata.org/pandas-docs/stable/user_guide/indexing.html#returning-a-view-versus-a-copy\n",
            "  \n",
            "/usr/local/lib/python3.7/dist-packages/ipykernel_launcher.py:7: SettingWithCopyWarning: \n",
            "A value is trying to be set on a copy of a slice from a DataFrame.\n",
            "Try using .loc[row_indexer,col_indexer] = value instead\n",
            "\n",
            "See the caveats in the documentation: https://pandas.pydata.org/pandas-docs/stable/user_guide/indexing.html#returning-a-view-versus-a-copy\n",
            "  import sys\n"
          ]
        },
        {
          "output_type": "execute_result",
          "data": {
            "text/html": [
              "<div>\n",
              "<style scoped>\n",
              "    .dataframe tbody tr th:only-of-type {\n",
              "        vertical-align: middle;\n",
              "    }\n",
              "\n",
              "    .dataframe tbody tr th {\n",
              "        vertical-align: top;\n",
              "    }\n",
              "\n",
              "    .dataframe thead th {\n",
              "        text-align: right;\n",
              "    }\n",
              "</style>\n",
              "<table border=\"1\" class=\"dataframe\">\n",
              "  <thead>\n",
              "    <tr style=\"text-align: right;\">\n",
              "      <th></th>\n",
              "      <th>Name</th>\n",
              "      <th>Phone number</th>\n",
              "      <th>Email</th>\n",
              "      <th>Registration date</th>\n",
              "      <th>Attended live</th>\n",
              "    </tr>\n",
              "  </thead>\n",
              "  <tbody>\n",
              "    <tr>\n",
              "      <th>0</th>\n",
              "      <td>Yin</td>\n",
              "      <td>138991990</td>\n",
              "      <td>yinyin_8181@hotmail.com</td>\n",
              "      <td>Thu, 22 Jul 2021, 01:30 AM</td>\n",
              "      <td>No</td>\n",
              "    </tr>\n",
              "    <tr>\n",
              "      <th>1</th>\n",
              "      <td>Michelle Wun</td>\n",
              "      <td>162134099</td>\n",
              "      <td>michelle@safetylab.com.my</td>\n",
              "      <td>Fri, 16 Jul 2021, 02:32 AM</td>\n",
              "      <td>No</td>\n",
              "    </tr>\n",
              "    <tr>\n",
              "      <th>2</th>\n",
              "      <td>Mc</td>\n",
              "      <td>166112385</td>\n",
              "      <td>munchie@klozer.com.my</td>\n",
              "      <td>Fri, 16 Jul 2021, 02:25 AM</td>\n",
              "      <td>No</td>\n",
              "    </tr>\n",
              "    <tr>\n",
              "      <th>3</th>\n",
              "      <td>Tan</td>\n",
              "      <td>126394314</td>\n",
              "      <td>tammytan@klozer.com.my</td>\n",
              "      <td>Fri, 16 Jul 2021, 02:16 AM</td>\n",
              "      <td>No</td>\n",
              "    </tr>\n",
              "    <tr>\n",
              "      <th>4</th>\n",
              "      <td>Wincent Low</td>\n",
              "      <td>123193515</td>\n",
              "      <td>huanseng86@hotmail.com</td>\n",
              "      <td>Fri, 16 Jul 2021, 02:16 AM</td>\n",
              "      <td>No</td>\n",
              "    </tr>\n",
              "  </tbody>\n",
              "</table>\n",
              "</div>"
            ],
            "text/plain": [
              "            Name  Phone number  ...           Registration date Attended live\n",
              "0           Yin      138991990  ...  Thu, 22 Jul 2021, 01:30 AM            No\n",
              "1  Michelle Wun      162134099  ...  Fri, 16 Jul 2021, 02:32 AM            No\n",
              "2            Mc      166112385  ...  Fri, 16 Jul 2021, 02:25 AM            No\n",
              "3           Tan      126394314  ...  Fri, 16 Jul 2021, 02:16 AM            No\n",
              "4    Wincent Low     123193515  ...  Fri, 16 Jul 2021, 02:16 AM            No\n",
              "\n",
              "[5 rows x 5 columns]"
            ]
          },
          "metadata": {},
          "execution_count": 68
        }
      ]
    },
    {
      "cell_type": "code",
      "metadata": {
        "id": "Jzh526v2a5Vt"
      },
      "source": [
        "# Dexter \n",
        "# Data Cleansing - Make email address lower case\n",
        "activecam_sub[\"Email\"] = activecam_sub[\"Email\"].str.lower()\n",
        "activecam_sub1[\"Email\"]=activecam_sub1[\"Email\"].str.lower()\n",
        "# Remove duplicates\n",
        "activecam_sub = activecam_sub.drop_duplicates(subset = \"Email\")\n",
        "activecam_sub1 = activecam_sub1.drop_duplicates(subset = \"Email\")"
      ],
      "execution_count": null,
      "outputs": []
    },
    {
      "cell_type": "code",
      "metadata": {
        "id": "xnH-o83Jzr5a",
        "colab": {
          "base_uri": "https://localhost:8080/"
        },
        "outputId": "4351119d-f3d0-44bc-cee5-dd9cbe4b9d01"
      },
      "source": [
        "#Trinly\n",
        "#DC-finding duplicates and view them to analyse which to keep\n",
        "duplicates = pd.concat(g for _, g in free_reg1.groupby(\"Email\") if len(g) > 1)\n",
        "duplicates1 = duplicates[[\"Name\", \"Email\", \"Attended live\"]]\n",
        "print(duplicates1)\n",
        "#since 2nd duplicate indicates yes or no, remove first duplicate"
      ],
      "execution_count": null,
      "outputs": [
        {
          "output_type": "stream",
          "name": "stdout",
          "text": [
            "              Name                          Email Attended live\n",
            "7          Adilah       adilahazudin.aa@gmail.com            No\n",
            "94         Adilah       adilahazudin.aa@gmail.com           Yes\n",
            "12         Cosmas              cosmas99@gmail.com           Yes\n",
            "248        Cosmas              cosmas99@gmail.com           Yes\n",
            "9     Amanda Chee            csf.amanda@gmail.com           Yes\n",
            "88    Amanda Chee            csf.amanda@gmail.com           Yes\n",
            "13           Yeap             excelizmgt@gmail.co           Yes\n",
            "56           Yeap             excelizmgt@gmail.co           Yes\n",
            "6    Goh Beng Chu           gladysbcgoh@gmail.com            No\n",
            "19   Goh Beng Chu           gladysbcgoh@gmail.com            No\n",
            "85   Goh Beng Chu           gladysbcgoh@gmail.com           Yes\n",
            "11       Hui Ling              hl.ooi@hotmail.com           Yes\n",
            "249      Hui Ling              hl.ooi@hotmail.com           Yes\n",
            "4      Wincent Low         huanseng86@hotmail.com            No\n",
            "106    Wincent Low         huanseng86@hotmail.com           Yes\n",
            "17       Lee Sieh            jesscl0307@gmail.com            No\n",
            "420      Lee Sieh            jesscl0307@gmail.com            No\n",
            "1    Michelle Wun       michelle@safetylab.com.my            No\n",
            "527  Michelle Wun       michelle@safetylab.com.my            No\n",
            "2              Mc           munchie@klozer.com.my            No\n",
            "74             Mc           munchie@klozer.com.my            No\n",
            "16   Nurul Amizah   najibassociates1718@gmail.com            No\n",
            "301  Nurul Amizah   najibassociates1718@gmail.com           Yes\n",
            "18             Ng            ngleesee88@gmail.com            No\n",
            "20             Ng            ngleesee88@gmail.com           Yes\n",
            "14           Pang            pangmic380@gmail.com           Yes\n",
            "131          Pang            pangmic380@gmail.com           Yes\n",
            "5       Sien Huay          sienhuay1202@gmail.com            No\n",
            "162     Sien Huay          sienhuay1202@gmail.com           Yes\n",
            "3             Tan          tammytan@klozer.com.my            No\n",
            "101           Tan          tammytan@klozer.com.my           Yes\n",
            "10        Yi Feng          tan_yifeng@hotmail.com           Yes\n",
            "159       Yi Feng          tan_yifeng@hotmail.com           Yes\n",
            "0             Yin         yinyin_8181@hotmail.com            No\n",
            "442           Yin         yinyin_8181@hotmail.com            No\n"
          ]
        }
      ]
    },
    {
      "cell_type": "code",
      "metadata": {
        "id": "a_n0mDFk6FYl",
        "colab": {
          "base_uri": "https://localhost:8080/"
        },
        "outputId": "82335ea9-eba6-4432-ee86-2b08b232da64"
      },
      "source": [
        "#Trinly\n",
        "#DC-drop duplicates and keep last entry only\n",
        "free_reg2 = free_reg1.drop_duplicates(subset=\"Email\", keep=\"last\")  \n",
        "#Remove entries with duplicated phone numbers\n",
        "free_reg2 = free_reg2.drop_duplicates(subset=\"Phone number\", keep=\"last\")\n",
        "dup_phone = free_reg2[free_reg2.duplicated(['Phone number'])]\n",
        "print(\"Duplicated rows based on phone numbers are:\", dup_phone, sep='\\n')"
      ],
      "execution_count": null,
      "outputs": [
        {
          "output_type": "stream",
          "name": "stdout",
          "text": [
            "Duplicated rows based on phone numbers are:\n",
            "Empty DataFrame\n",
            "Columns: [Name, Phone number, Email, Registration date, Attended live]\n",
            "Index: []\n"
          ]
        }
      ]
    },
    {
      "cell_type": "code",
      "metadata": {
        "id": "RQhnwNQdHYkT"
      },
      "source": [
        "# Dexter\n",
        "# Change the data type of phone number to string\n",
        "free_reg3 = free_reg2[\"Phone number\"].astype(str)\n",
        "# Reformatting the phone number\n",
        "for i in range(len(free_reg3)):\n",
        "  if free_reg3.iloc[i][0] == '6':\n",
        "    free_reg3.iloc[i] = \"+\" + free_reg3.iloc[i]\n",
        "  elif len(free_reg3.iloc[i]) < 9:\n",
        "    free_reg3.iloc[i] = \"+603\" + free_reg3.iloc[i]\n",
        "  elif (len(free_reg3.iloc[i]) >= 9) and (free_reg3.iloc[i][0] == '1' or free_reg3.iloc[i][0] == '3'):\n",
        "    free_reg3.iloc[i] = \"+60\" + free_reg3.iloc[i]\n",
        "  else:\n",
        "    free_reg3.iloc[i] = \"+6\" + free_reg3.iloc[i]\n",
        "free_reg2[\"Phone number\"] = free_reg3"
      ],
      "execution_count": null,
      "outputs": []
    },
    {
      "cell_type": "code",
      "metadata": {
        "id": "OI1x7u0xY5Qp",
        "colab": {
          "base_uri": "https://localhost:8080/"
        },
        "outputId": "25854ce0-c0ca-4443-a6a6-bac2616c9dbf"
      },
      "source": [
        "# Dexter\n",
        "# Category 4 - non-paid users in free_reg but not in ActiveCampaign list attended live\n",
        "np_category4 = free_reg2[~free_reg2[\"Email\"].isin(paid.email)]\n",
        "np_category4 = np_category4[~np_category4[\"Email\"].isin(activecam_sub.Email)]\n",
        "np_category4 = np_category4[np_category4['Attended live'].str.contains(\"Yes\")]\n",
        "len(np_category4)"
      ],
      "execution_count": null,
      "outputs": [
        {
          "output_type": "execute_result",
          "data": {
            "text/plain": [
              "46"
            ]
          },
          "metadata": {},
          "execution_count": 73
        }
      ]
    },
    {
      "cell_type": "code",
      "metadata": {
        "id": "QzCEWqbS71fn",
        "colab": {
          "base_uri": "https://localhost:8080/"
        },
        "outputId": "4571bf93-b678-42fb-bdfa-630faee0479e"
      },
      "source": [
        "# Category 5 - non-paid users in free_reg but not in ActiveCampaign list did not attend live\n",
        "np_category5 = free_reg2[~free_reg2[\"Email\"].isin(paid.email)]\n",
        "np_category5 = np_category5[~np_category5[\"Email\"].isin(activecam_sub.Email)]\n",
        "np_category5 = np_category5[np_category5['Attended live'].str.contains(\"No\")]\n",
        "len(np_category5)"
      ],
      "execution_count": null,
      "outputs": [
        {
          "output_type": "execute_result",
          "data": {
            "text/plain": [
              "36"
            ]
          },
          "metadata": {},
          "execution_count": 74
        }
      ]
    },
    {
      "cell_type": "code",
      "metadata": {
        "id": "wHx__Z52jQBL",
        "colab": {
          "base_uri": "https://localhost:8080/"
        },
        "outputId": "4d193e7f-f215-4104-d31a-51e76efdc4ce"
      },
      "source": [
        "# Trinly\n",
        "# Category 1 - Registered = Yes, Attended live = Yes, Paid = No\n",
        "np_category1 = free_reg2[free_reg2['Attended live'].str.contains(\"Yes\")]\n",
        "np_category1 = np_category1[np_category1[\"Email\"].isin(activecam_sub.Email)] #trinly-prevoiusly wasnt finding for <13 july\n",
        "# Dexter\n",
        "np_category1 = np_category1[~np_category1[\"Email\"].isin(paid.email)]\n",
        "np_category1 = np_category1[[\"Name\", \"Phone number\", \"Email\"]]\n",
        "np_category1.reset_index(drop = True, inplace = True)\n",
        "# Trinly-Count Entries(no of registrants/rows)\n",
        "len(np_category1.index)"
      ],
      "execution_count": null,
      "outputs": [
        {
          "output_type": "execute_result",
          "data": {
            "text/plain": [
              "204"
            ]
          },
          "metadata": {},
          "execution_count": 75
        }
      ]
    },
    {
      "cell_type": "code",
      "metadata": {
        "id": "QKhOKyvFXvsZ",
        "colab": {
          "base_uri": "https://localhost:8080/"
        },
        "outputId": "791e68a1-f882-4a0b-f5f6-e94192590837"
      },
      "source": [
        "# Dexter\n",
        "# Category 2 - Registered = Yes, Attended live = No, Paid = No\n",
        "np_category2 = free_reg2[free_reg2['Attended live'].str.contains(\"No\")]\n",
        "np_category2 = np_category2[np_category2[\"Email\"].isin(activecam_sub.Email)] #trinly-prevoiusly wasnt finding for <13 july\n",
        "np_category2 = np_category2[~np_category2[\"Email\"].isin(paid.email)]\n",
        "np_category2 = np_category2[[\"Name\", \"Phone number\", \"Email\"]]\n",
        "np_category2.reset_index(drop = True, inplace = True)\n",
        "#Trinly-Count Entries- shows that dexters code succesfully narrowed down entries\n",
        "len(np_category2.index)"
      ],
      "execution_count": null,
      "outputs": [
        {
          "output_type": "execute_result",
          "data": {
            "text/plain": [
              "149"
            ]
          },
          "metadata": {},
          "execution_count": 76
        }
      ]
    },
    {
      "cell_type": "code",
      "metadata": {
        "id": "NWJSpvWsF0OM",
        "colab": {
          "base_uri": "https://localhost:8080/"
        },
        "outputId": "e33ed9d7-26fc-48f9-e1c5-2608ea614dc7"
      },
      "source": [
        "#added and cleaned at [19] part of code so can remove this??-Trinly\n",
        "dup_phone = free_reg2[free_reg2.duplicated(['Phone number'])]\n",
        "print(\"Duplicated rows based on phone numbers are:\", dup_phone, sep='\\n')"
      ],
      "execution_count": null,
      "outputs": [
        {
          "output_type": "stream",
          "name": "stdout",
          "text": [
            "Duplicated rows based on phone numbers are:\n",
            "Empty DataFrame\n",
            "Columns: [Name, Phone number, Email, Registration date, Attended live]\n",
            "Index: []\n"
          ]
        }
      ]
    },
    {
      "cell_type": "code",
      "metadata": {
        "id": "pvDKPHXqsAtS",
        "colab": {
          "base_uri": "https://localhost:8080/"
        },
        "outputId": "dad779af-498c-42d6-81b9-d5ec89672777"
      },
      "source": [
        "# Dexter\n",
        "# Category 3 - Registered = No, Attended live = No, Paid = No\n",
        "np_category3 = free_reg2[free_reg2[\"Registration date\"].isna()]\n",
        "len(np_category3)"
      ],
      "execution_count": null,
      "outputs": [
        {
          "output_type": "execute_result",
          "data": {
            "text/plain": [
              "0"
            ]
          },
          "metadata": {},
          "execution_count": 78
        }
      ]
    },
    {
      "cell_type": "code",
      "metadata": {
        "id": "2aMgSCPEQZYV"
      },
      "source": [
        "# Dexter\n",
        "# Export data \n",
        "#from google.colab import drive\n",
        "#drive.mount('/drive', force_remount = True)\n",
        "#np_category1.to_csv('/drive/My Drive/nonpaid_category1.csv')\n",
        "#np_category2.to_csv('/drive/My Drive/nonpaid_category2.csv')"
      ],
      "execution_count": null,
      "outputs": []
    },
    {
      "cell_type": "code",
      "metadata": {
        "id": "oYLP1_3WdIJf"
      },
      "source": [
        "# Dexter\n",
        "# Data Cleansing - Make email address lower case\n",
        "paid[\"email\"] = paid[\"email\"].str.lower()\n",
        "paid_bankin[\"Email Address\"] = paid_bankin[\"Email Address\"].str.lower()\n",
        "paid_cred[\"user_email\"] = paid_cred[\"user_email\"].str.lower()\n",
        "# Remove duplicates\n",
        "paid = paid.drop_duplicates(subset = \"email\")\n",
        "paid_bankin = paid_bankin.drop_duplicates(subset = \"Email Address\")\n",
        "paid_cred = paid_cred.drop_duplicates(subset = \"user_email\")\n",
        "# Reformat name\n",
        "paid[\"fullname\"] = paid[\"fullname\"].str.title()\n",
        "paid_bankin[\"Your Name (Put in Learnabee)\"] = paid_bankin[\"Your Name (Put in Learnabee)\"].str.title()\n",
        "paid_cred[\"user\"] = paid_cred[\"user\"].str.title()"
      ],
      "execution_count": null,
      "outputs": []
    },
    {
      "cell_type": "code",
      "metadata": {
        "id": "tV5kEIXGyV6_"
      },
      "source": [
        "paid_after=paid"
      ],
      "execution_count": null,
      "outputs": []
    },
    {
      "cell_type": "code",
      "metadata": {
        "id": "BRImTOk46oBf",
        "colab": {
          "base_uri": "https://localhost:8080/"
        },
        "outputId": "cb7bdd94-064b-4367-d768-2536d58dcd34"
      },
      "source": [
        "# Dexter\n",
        "# Length of each category\n",
        "print(len(paid), len(paid_bankin), len(paid_cred))\n",
        "# Conclusion: paid(254) = paid_bankin(25) + paid_cred(223) + paid_free(5)\n",
        "# We want to identify paid_free"
      ],
      "execution_count": null,
      "outputs": [
        {
          "output_type": "stream",
          "name": "stdout",
          "text": [
            "254 25 223\n"
          ]
        }
      ]
    },
    {
      "cell_type": "code",
      "metadata": {
        "id": "Rz_BSXap7k8j",
        "colab": {
          "base_uri": "https://localhost:8080/"
        },
        "outputId": "f5ca78e7-ac64-479e-c6eb-812db71435ca"
      },
      "source": [
        "# Dexter\n",
        "# Identify paid_free\n",
        "paid_free = paid[~paid[\"email\"].isin(paid_bankin[\"Email Address\"])]\n",
        "paid_free = paid_free[~paid_free[\"email\"].isin(paid_cred[\"user_email\"])]\n",
        "# However, len(paid_free) is 8 but not 6, so we filter out again by comparing name\n",
        "paid_free = paid_free[~paid_free[\"fullname\"].isin(paid_cred[\"user\"])]\n",
        "paid_free = paid_free[~paid_free[\"fullname\"].isin(paid_bankin[\"Your Name (Put in Learnabee)\"])]\n",
        "# We can identify that their email is not consistent/ type wrongly, now len(paid_free) is 7\n",
        "# remove Lynn Koay (special case), now the length is 6 as desired\n",
        "paid_free = paid_free[paid_free[\"fullname\"]!=\"Lynn Koay\"]\n",
        "print(len(paid_free))"
      ],
      "execution_count": null,
      "outputs": [
        {
          "output_type": "stream",
          "name": "stdout",
          "text": [
            "6\n"
          ]
        }
      ]
    },
    {
      "cell_type": "code",
      "metadata": {
        "id": "OrjGQGVdX84Y",
        "colab": {
          "base_uri": "https://localhost:8080/",
          "height": 419
        },
        "outputId": "2a7e6b57-8e36-4406-cd80-e744e71a2df5"
      },
      "source": [
        "#Trinly-Lookup and add available phone numbers to paid\n",
        "#Change col name to be able to merge based on email\n",
        "paid = paid.rename(columns={'email': 'Email'})\n",
        "\n",
        "#merge to get phone numbers in paid master list\n",
        "paid2= pd.merge(free_reg2,paid,how='right')\n",
        "paid2= paid2[[\"fullname\",\"Email\",\"Phone number\"]]\n",
        "paid2"
      ],
      "execution_count": null,
      "outputs": [
        {
          "output_type": "execute_result",
          "data": {
            "text/html": [
              "<div>\n",
              "<style scoped>\n",
              "    .dataframe tbody tr th:only-of-type {\n",
              "        vertical-align: middle;\n",
              "    }\n",
              "\n",
              "    .dataframe tbody tr th {\n",
              "        vertical-align: top;\n",
              "    }\n",
              "\n",
              "    .dataframe thead th {\n",
              "        text-align: right;\n",
              "    }\n",
              "</style>\n",
              "<table border=\"1\" class=\"dataframe\">\n",
              "  <thead>\n",
              "    <tr style=\"text-align: right;\">\n",
              "      <th></th>\n",
              "      <th>fullname</th>\n",
              "      <th>Email</th>\n",
              "      <th>Phone number</th>\n",
              "    </tr>\n",
              "  </thead>\n",
              "  <tbody>\n",
              "    <tr>\n",
              "      <th>0</th>\n",
              "      <td>Mohd Amir Bin Mohd Sofian</td>\n",
              "      <td>akuamir85@gmail.com</td>\n",
              "      <td>NaN</td>\n",
              "    </tr>\n",
              "    <tr>\n",
              "      <th>1</th>\n",
              "      <td>Chun Kooi Fong</td>\n",
              "      <td>junechunkf@gmail.com</td>\n",
              "      <td>NaN</td>\n",
              "    </tr>\n",
              "    <tr>\n",
              "      <th>2</th>\n",
              "      <td>Puteri Nur Nabila Binti Megat Ahmad Kamaluddin</td>\n",
              "      <td>nabila882188@gmail.com</td>\n",
              "      <td>NaN</td>\n",
              "    </tr>\n",
              "    <tr>\n",
              "      <th>3</th>\n",
              "      <td>Wan Ping</td>\n",
              "      <td>zeus_cssb@yahoo.com.my</td>\n",
              "      <td>NaN</td>\n",
              "    </tr>\n",
              "    <tr>\n",
              "      <th>4</th>\n",
              "      <td>Foo Hui Hui</td>\n",
              "      <td>elviehui@yahoo.com</td>\n",
              "      <td>NaN</td>\n",
              "    </tr>\n",
              "    <tr>\n",
              "      <th>...</th>\n",
              "      <td>...</td>\n",
              "      <td>...</td>\n",
              "      <td>...</td>\n",
              "    </tr>\n",
              "    <tr>\n",
              "      <th>249</th>\n",
              "      <td>Chia Shiao Ean</td>\n",
              "      <td>hazel.cse@gmail.com</td>\n",
              "      <td>NaN</td>\n",
              "    </tr>\n",
              "    <tr>\n",
              "      <th>250</th>\n",
              "      <td>Mak Yee Hong</td>\n",
              "      <td>makyeehong@hotmail.com</td>\n",
              "      <td>NaN</td>\n",
              "    </tr>\n",
              "    <tr>\n",
              "      <th>251</th>\n",
              "      <td>Arvind U Gopi Kumar</td>\n",
              "      <td>arvind.a7corp@gmail.com</td>\n",
              "      <td>NaN</td>\n",
              "    </tr>\n",
              "    <tr>\n",
              "      <th>252</th>\n",
              "      <td>Muhammad Najib Bin Omar</td>\n",
              "      <td>muhmmdnajib@gmail.com</td>\n",
              "      <td>+60199300233</td>\n",
              "    </tr>\n",
              "    <tr>\n",
              "      <th>253</th>\n",
              "      <td>Azilawati Bt Othman</td>\n",
              "      <td>aquexperrtservices@gmail.com</td>\n",
              "      <td>NaN</td>\n",
              "    </tr>\n",
              "  </tbody>\n",
              "</table>\n",
              "<p>254 rows × 3 columns</p>\n",
              "</div>"
            ],
            "text/plain": [
              "                                           fullname  ...  Phone number\n",
              "0                         Mohd Amir Bin Mohd Sofian  ...           NaN\n",
              "1                                    Chun Kooi Fong  ...           NaN\n",
              "2    Puteri Nur Nabila Binti Megat Ahmad Kamaluddin  ...           NaN\n",
              "3                                          Wan Ping  ...           NaN\n",
              "4                                       Foo Hui Hui  ...           NaN\n",
              "..                                              ...  ...           ...\n",
              "249                                  Chia Shiao Ean  ...           NaN\n",
              "250                                    Mak Yee Hong  ...           NaN\n",
              "251                             Arvind U Gopi Kumar  ...           NaN\n",
              "252                         Muhammad Najib Bin Omar  ...  +60199300233\n",
              "253                             Azilawati Bt Othman  ...           NaN\n",
              "\n",
              "[254 rows x 3 columns]"
            ]
          },
          "metadata": {},
          "execution_count": 84
        }
      ]
    },
    {
      "cell_type": "code",
      "metadata": {
        "id": "GqWNNs9YhkJb",
        "colab": {
          "base_uri": "https://localhost:8080/",
          "height": 204
        },
        "outputId": "30ddf3ec-02fb-4210-fa48-57661ad92b30"
      },
      "source": [
        "#Trinly-Lookup and add available phone numbers tp paid_cred\n",
        "paid_cred = paid_cred.rename(columns={'user_email': 'Email'})\n",
        "paid_cred2=pd.merge(paid_cred,free_reg2,how='left')\n",
        "paid_cred2=paid_cred2[['purchased_at','user','Email','Phone number']]\n",
        "paid_cred2.head()\n",
        "#paid_bankin already has phone numbers"
      ],
      "execution_count": null,
      "outputs": [
        {
          "output_type": "execute_result",
          "data": {
            "text/html": [
              "<div>\n",
              "<style scoped>\n",
              "    .dataframe tbody tr th:only-of-type {\n",
              "        vertical-align: middle;\n",
              "    }\n",
              "\n",
              "    .dataframe tbody tr th {\n",
              "        vertical-align: top;\n",
              "    }\n",
              "\n",
              "    .dataframe thead th {\n",
              "        text-align: right;\n",
              "    }\n",
              "</style>\n",
              "<table border=\"1\" class=\"dataframe\">\n",
              "  <thead>\n",
              "    <tr style=\"text-align: right;\">\n",
              "      <th></th>\n",
              "      <th>purchased_at</th>\n",
              "      <th>user</th>\n",
              "      <th>Email</th>\n",
              "      <th>Phone number</th>\n",
              "    </tr>\n",
              "  </thead>\n",
              "  <tbody>\n",
              "    <tr>\n",
              "      <th>0</th>\n",
              "      <td>2021-08-29</td>\n",
              "      <td>Puteri Nur Nabila Binti Megat Ahmad Kamaluddin</td>\n",
              "      <td>nabila882188@gmail.com</td>\n",
              "      <td>NaN</td>\n",
              "    </tr>\n",
              "    <tr>\n",
              "      <th>1</th>\n",
              "      <td>2021-08-29</td>\n",
              "      <td>Foo Hui Hui</td>\n",
              "      <td>elviehui@yahoo.com</td>\n",
              "      <td>NaN</td>\n",
              "    </tr>\n",
              "    <tr>\n",
              "      <th>2</th>\n",
              "      <td>2021-08-19</td>\n",
              "      <td>Yap Choon Fon</td>\n",
              "      <td>cfyap@brdb.com.my</td>\n",
              "      <td>NaN</td>\n",
              "    </tr>\n",
              "    <tr>\n",
              "      <th>3</th>\n",
              "      <td>2021-08-01</td>\n",
              "      <td>Tan Mooi Cheng</td>\n",
              "      <td>tan_mooicheng@yahoo.com</td>\n",
              "      <td>NaN</td>\n",
              "    </tr>\n",
              "    <tr>\n",
              "      <th>4</th>\n",
              "      <td>2021-08-01</td>\n",
              "      <td>Ivan Tan</td>\n",
              "      <td>stamina0209@gmail.com</td>\n",
              "      <td>NaN</td>\n",
              "    </tr>\n",
              "  </tbody>\n",
              "</table>\n",
              "</div>"
            ],
            "text/plain": [
              "  purchased_at  ... Phone number\n",
              "0   2021-08-29  ...          NaN\n",
              "1   2021-08-29  ...          NaN\n",
              "2   2021-08-19  ...          NaN\n",
              "3   2021-08-01  ...          NaN\n",
              "4   2021-08-01  ...          NaN\n",
              "\n",
              "[5 rows x 4 columns]"
            ]
          },
          "metadata": {},
          "execution_count": 85
        }
      ]
    },
    {
      "cell_type": "code",
      "metadata": {
        "id": "1rZjzJ_kx5Wb"
      },
      "source": [
        "# Trinly-Clean phone numbers for paid_bankin\n",
        "# Change the data type of phone number to string\n",
        "paid_bankin2 = paid_bankin[\"Your Whatsapp Number\"].astype(str)\n",
        "# Reformatting the phone number\n",
        "for i in range(len(paid_bankin2)):\n",
        "  paid_bankin2.iloc[i] = paid_bankin2.iloc[i].replace(' ','')\n",
        "  if '-' in paid_bankin2.iloc[i]:\n",
        "    paid_bankin2.iloc[i] = paid_bankin2.iloc[i].replace('-','')\n",
        "  if paid_bankin2.iloc[i][0] == '6':\n",
        "    paid_bankin2.iloc[i] = \"+\" + paid_bankin2.iloc[i]\n",
        "  elif len(paid_bankin2.iloc[i]) < 9:\n",
        "    paid_bankin2.iloc[i] = \"+603\" + paid_bankin2.iloc[i]\n",
        "  elif (len(paid_bankin2.iloc[i]) >= 9) and (paid_bankin2.iloc[i][0] == '1' or paid_bankin2.iloc[i][0] == '3'):\n",
        "    paid_bankin2.iloc[i] = \"+60\" + paid_bankin2.iloc[i]\n",
        "  else:\n",
        "    paid_bankin2.iloc[i] = \"+6\" + paid_bankin2.iloc[i]\n",
        "paid_bankin[\"Your Whatsapp Number\"] = paid_bankin2\n",
        "paid_bankin.reset_index(drop = True, inplace = True)"
      ],
      "execution_count": null,
      "outputs": []
    },
    {
      "cell_type": "code",
      "metadata": {
        "id": "wRXWz3ngDi17"
      },
      "source": [
        "from google.colab import drive\n",
        "#drive.mount('/drive', force_remount = True)\n",
        "#paid2.to_csv('/drive/My Drive/paid.csv')\n",
        "#paid_bankin.to_csv('/drive/My Drive/paid_bankin.csv')\n",
        "#paid_cred2.to_csv('/drive/My Drive/paid_cred.csv')\n",
        "#paid_free.to_csv('/drive/My Drive/paid_free.csv')"
      ],
      "execution_count": null,
      "outputs": []
    },
    {
      "cell_type": "code",
      "metadata": {
        "id": "b7PAns5nbh80",
        "colab": {
          "base_uri": "https://localhost:8080/"
        },
        "outputId": "1a425587-1288-4a77-cf77-a8450e549ebe"
      },
      "source": [
        "#Trinly\n",
        "#Make all paid list where all_paid= paid_bankin + paid_cred\n",
        "paid_bankin3= paid_bankin[[\"Your Name (Put in Learnabee)\",\"Email Address\",\"Your Whatsapp Number\"]]\n",
        "paid_bankin3=paid_bankin3.rename(columns={'Email Address':'Email'})\n",
        "paid_bankin3= paid_bankin3.rename(columns={'Your Name (Put in Learnabee)':'Name'})\n",
        "paid_bankin3= paid_bankin3.rename(columns={'Your Whatsapp Number':'Phone number'})\n",
        "paid_cred3=paid_cred2[['user','Email','Phone number']]\n",
        "paid_cred3= paid_cred3.rename(columns={'user':'Name'})\n",
        "paid_all= pd.concat([paid_cred3,paid_bankin3],axis=0)\n",
        "len(paid_all)"
      ],
      "execution_count": null,
      "outputs": [
        {
          "output_type": "execute_result",
          "data": {
            "text/plain": [
              "248"
            ]
          },
          "metadata": {},
          "execution_count": 88
        }
      ]
    },
    {
      "cell_type": "code",
      "metadata": {
        "id": "2oEBDY04TnvV"
      },
      "source": [
        "# Dexter\n",
        "# After indentified paid_free, find out adj_paid\n",
        "paid_bankin = paid_bankin.rename(columns = {\"Your Name (Put in Learnabee)\": \"name\", \"Email Address\": \"email\", \"Your Whatsapp Number\": \"phone_num\"})\n",
        "paid_cred2 = paid_cred2.rename(columns = {\"user\": \"name\", \"Phone number\": \"phone_num\", \"Email\": \"email\"})\n",
        "adj_paid = pd.merge(paid_bankin, paid_cred2, how = \"outer\")\n",
        "\n"
      ],
      "execution_count": null,
      "outputs": []
    },
    {
      "cell_type": "code",
      "metadata": {
        "id": "dYb9XD6lgVU4",
        "colab": {
          "base_uri": "https://localhost:8080/",
          "height": 204
        },
        "outputId": "b4c19980-edc1-41c3-f8ed-f72b7c9382a8"
      },
      "source": [
        "adj_paid2= adj_paid[[\"Timestamp\",\"name\", \"email\", \"phone_num\"]]\n",
        "adj_paid2.head()"
      ],
      "execution_count": null,
      "outputs": [
        {
          "output_type": "execute_result",
          "data": {
            "text/html": [
              "<div>\n",
              "<style scoped>\n",
              "    .dataframe tbody tr th:only-of-type {\n",
              "        vertical-align: middle;\n",
              "    }\n",
              "\n",
              "    .dataframe tbody tr th {\n",
              "        vertical-align: top;\n",
              "    }\n",
              "\n",
              "    .dataframe thead th {\n",
              "        text-align: right;\n",
              "    }\n",
              "</style>\n",
              "<table border=\"1\" class=\"dataframe\">\n",
              "  <thead>\n",
              "    <tr style=\"text-align: right;\">\n",
              "      <th></th>\n",
              "      <th>Timestamp</th>\n",
              "      <th>name</th>\n",
              "      <th>email</th>\n",
              "      <th>phone_num</th>\n",
              "    </tr>\n",
              "  </thead>\n",
              "  <tbody>\n",
              "    <tr>\n",
              "      <th>0</th>\n",
              "      <td>6/22/2021 14:08:03</td>\n",
              "      <td>Muhammad Najib Bin Omar</td>\n",
              "      <td>muhmmdnajib@gmail.com</td>\n",
              "      <td>+60199300233</td>\n",
              "    </tr>\n",
              "    <tr>\n",
              "      <th>1</th>\n",
              "      <td>6/30/2021 12:58:30</td>\n",
              "      <td>Lucinda Yeoh</td>\n",
              "      <td>lucindayeoh@gmail.com</td>\n",
              "      <td>+60122229518</td>\n",
              "    </tr>\n",
              "    <tr>\n",
              "      <th>2</th>\n",
              "      <td>6/30/2021 16:08:05</td>\n",
              "      <td>Zahoreen Binti Hassan</td>\n",
              "      <td>mscorpservices@gmail.com</td>\n",
              "      <td>+60197661276</td>\n",
              "    </tr>\n",
              "    <tr>\n",
              "      <th>3</th>\n",
              "      <td>7/1/2021 9:07:46</td>\n",
              "      <td>Lee Lin Chyuan</td>\n",
              "      <td>lichyuan1984@gmail.com</td>\n",
              "      <td>+60176569567</td>\n",
              "    </tr>\n",
              "    <tr>\n",
              "      <th>4</th>\n",
              "      <td>7/6/2021 22:43:15</td>\n",
              "      <td>Tan Yean Chin</td>\n",
              "      <td>yctanee@gmail.com</td>\n",
              "      <td>+60127306605</td>\n",
              "    </tr>\n",
              "  </tbody>\n",
              "</table>\n",
              "</div>"
            ],
            "text/plain": [
              "            Timestamp  ...     phone_num\n",
              "0  6/22/2021 14:08:03  ...  +60199300233\n",
              "1  6/30/2021 12:58:30  ...  +60122229518\n",
              "2  6/30/2021 16:08:05  ...  +60197661276\n",
              "3    7/1/2021 9:07:46  ...  +60176569567\n",
              "4   7/6/2021 22:43:15  ...  +60127306605\n",
              "\n",
              "[5 rows x 4 columns]"
            ]
          },
          "metadata": {},
          "execution_count": 90
        }
      ]
    },
    {
      "cell_type": "code",
      "metadata": {
        "id": "GsUVByz8f3Fe",
        "colab": {
          "base_uri": "https://localhost:8080/"
        },
        "outputId": "3efb8566-868b-49d4-e2af-942d7bbacbcb"
      },
      "source": [
        "adj_paid = adj_paid[[\"name\", \"email\", \"phone_num\"]]\n",
        "len(adj_paid)"
      ],
      "execution_count": null,
      "outputs": [
        {
          "output_type": "execute_result",
          "data": {
            "text/plain": [
              "248"
            ]
          },
          "metadata": {},
          "execution_count": 91
        }
      ]
    },
    {
      "cell_type": "code",
      "metadata": {
        "id": "heoFE3xQeyFe",
        "colab": {
          "base_uri": "https://localhost:8080/"
        },
        "outputId": "c49ffb6a-8785-4d39-e768-c302c6959ef2"
      },
      "source": [
        "#Trinly\n",
        "#paid, registered and attended free session\n",
        "p_category1= pd.merge(paid_all,free_reg2,on='Email',how='left')\n",
        "p_category1=p_category1[p_category1[\"Email\"].isin(activecam_sub.Email)]\n",
        "p_category1=p_category1.loc[p_category1['Attended live'].isin(['Yes'])]\n",
        "p_category1=p_category1[[\"Name_x\",\"Email\",\"Phone number_x\",\"Registration date\",\"Attended live\"]]\n",
        "p_category1.head()\n",
        "len(p_category1)"
      ],
      "execution_count": null,
      "outputs": [
        {
          "output_type": "execute_result",
          "data": {
            "text/plain": [
              "102"
            ]
          },
          "metadata": {},
          "execution_count": 92
        }
      ]
    },
    {
      "cell_type": "code",
      "metadata": {
        "id": "46A74rF3GsIv",
        "colab": {
          "base_uri": "https://localhost:8080/"
        },
        "outputId": "47737d47-b30a-4be6-e959-c87573e8b603"
      },
      "source": [
        "# Dexter\n",
        "# Paid audience analysis\n",
        "# Category 1 - Registered = Yes, Attended live = Yes\n",
        "yes_live = free_reg2[free_reg2[\"Attended live\"].str.contains(\"Yes\")]\n",
        "pp_category1 = adj_paid[adj_paid[\"email\"].isin(yes_live.Email)]\n",
        "pp_category1 = pp_category1[pp_category1[\"email\"].isin(activecam_sub.Email)]\n",
        "pp_category1.reset_index(drop = True, inplace = True)\n",
        "len(pp_category1)"
      ],
      "execution_count": null,
      "outputs": [
        {
          "output_type": "execute_result",
          "data": {
            "text/plain": [
              "102"
            ]
          },
          "metadata": {},
          "execution_count": 93
        }
      ]
    },
    {
      "cell_type": "code",
      "metadata": {
        "id": "rUQS7Xlfhgu4",
        "colab": {
          "base_uri": "https://localhost:8080/"
        },
        "outputId": "6d290186-94f4-4761-d781-1cb0c0052163"
      },
      "source": [
        "#Trinly\n",
        "#paid, registered and did not attend free session\n",
        "p_category2= pd.merge(paid_all,free_reg2,on='Email',how='left')\n",
        "p_category2=p_category2.loc[p_category2['Attended live'].isin(['No'])]\n",
        "p_category2=p_category2[p_category2[\"Email\"].isin(activecam_sub.Email)]\n",
        "p_category2=p_category2[[\"Name_x\",\"Email\",\"Phone number_x\",\"Registration date\",\"Attended live\"]]\n",
        "p_category2.head()\n",
        "len(p_category2)"
      ],
      "execution_count": null,
      "outputs": [
        {
          "output_type": "execute_result",
          "data": {
            "text/plain": [
              "12"
            ]
          },
          "metadata": {},
          "execution_count": 94
        }
      ]
    },
    {
      "cell_type": "code",
      "metadata": {
        "id": "RWln0H0AGq9v",
        "colab": {
          "base_uri": "https://localhost:8080/"
        },
        "outputId": "eb83c0bc-ba4f-4390-8a0b-adca1805d351"
      },
      "source": [
        "# Dexter\n",
        "# Paid audience analysis\n",
        "# Category 2 - Registered = Yes, Attended live = No\n",
        "no_live = free_reg2[free_reg2[\"Attended live\"].str.contains(\"No\")]\n",
        "pp_category2 = adj_paid[adj_paid[\"email\"].isin(no_live.Email)]\n",
        "pp_category2 = pp_category2[pp_category2[\"email\"].isin(activecam_sub.Email)]\n",
        "pp_category2.reset_index(drop = True, inplace = True)\n",
        "len(pp_category2)"
      ],
      "execution_count": null,
      "outputs": [
        {
          "output_type": "execute_result",
          "data": {
            "text/plain": [
              "12"
            ]
          },
          "metadata": {},
          "execution_count": 95
        }
      ]
    },
    {
      "cell_type": "code",
      "metadata": {
        "id": "GjEN9510iSwD",
        "colab": {
          "base_uri": "https://localhost:8080/"
        },
        "outputId": "4d682a46-6585-4bbf-b2e7-f8d840cb6f86"
      },
      "source": [
        "#Trinly \n",
        "p_category3=pd.merge(paid_all,free_reg2,on='Email',how='left')\n",
        "p_category3=p_category3[p_category3['Registration date'].isna()]\n",
        "p_category3=p_category3[p_category3[\"Email\"].isin(activecam_sub.Email)]\n",
        "p_category3=p_category3[[\"Name_x\",\"Email\",\"Phone number_x\",\"Registration date\",\"Attended live\"]]\n",
        "len(p_category3)\n",
        "#If they didnt register they cannot attend the live then attended live is n/a which means they did not attend live"
      ],
      "execution_count": null,
      "outputs": [
        {
          "output_type": "execute_result",
          "data": {
            "text/plain": [
              "89"
            ]
          },
          "metadata": {},
          "execution_count": 96
        }
      ]
    },
    {
      "cell_type": "code",
      "metadata": {
        "id": "fa-rhBxGEXGw",
        "colab": {
          "base_uri": "https://localhost:8080/"
        },
        "outputId": "973482f6-f698-4ea7-f9cd-7322ec2a43b6"
      },
      "source": [
        "# Dexter\n",
        "# Paid audience analysis\n",
        "# Category 3 - Registered = No, Attended live = No\n",
        "pp_category3 = adj_paid[~adj_paid[\"email\"].isin(free_reg2.Email)]\n",
        "pp_category3 = pp_category3[pp_category3[\"email\"].isin(activecam_sub.Email)]\n",
        "pp_category3.reset_index(drop = True, inplace = True)\n",
        "len(pp_category3)"
      ],
      "execution_count": null,
      "outputs": [
        {
          "output_type": "execute_result",
          "data": {
            "text/plain": [
              "89"
            ]
          },
          "metadata": {},
          "execution_count": 97
        }
      ]
    },
    {
      "cell_type": "code",
      "metadata": {
        "id": "HSNjhAwRF0xK",
        "colab": {
          "base_uri": "https://localhost:8080/",
          "height": 204
        },
        "outputId": "63831713-624e-45e9-a039-f56e93a790ed"
      },
      "source": [
        "#Trinly\n",
        "p_category4= pd.merge(paid_all,free_reg2,on='Email',how='left')\n",
        "p_category4=p_category4[~p_category4[\"Email\"].isin(activecam_sub.Email)]\n",
        "\n",
        "p_category4=p_category4[[\"Name_x\",\"Email\",\"Phone number_x\",\"Registration date\",\"Attended live\"]]\n",
        "len(p_category4)\n",
        "p_category4.head()"
      ],
      "execution_count": null,
      "outputs": [
        {
          "output_type": "execute_result",
          "data": {
            "text/html": [
              "<div>\n",
              "<style scoped>\n",
              "    .dataframe tbody tr th:only-of-type {\n",
              "        vertical-align: middle;\n",
              "    }\n",
              "\n",
              "    .dataframe tbody tr th {\n",
              "        vertical-align: top;\n",
              "    }\n",
              "\n",
              "    .dataframe thead th {\n",
              "        text-align: right;\n",
              "    }\n",
              "</style>\n",
              "<table border=\"1\" class=\"dataframe\">\n",
              "  <thead>\n",
              "    <tr style=\"text-align: right;\">\n",
              "      <th></th>\n",
              "      <th>Name_x</th>\n",
              "      <th>Email</th>\n",
              "      <th>Phone number_x</th>\n",
              "      <th>Registration date</th>\n",
              "      <th>Attended live</th>\n",
              "    </tr>\n",
              "  </thead>\n",
              "  <tbody>\n",
              "    <tr>\n",
              "      <th>0</th>\n",
              "      <td>Puteri Nur Nabila Binti Megat Ahmad Kamaluddin</td>\n",
              "      <td>nabila882188@gmail.com</td>\n",
              "      <td>NaN</td>\n",
              "      <td>NaN</td>\n",
              "      <td>NaN</td>\n",
              "    </tr>\n",
              "    <tr>\n",
              "      <th>1</th>\n",
              "      <td>Foo Hui Hui</td>\n",
              "      <td>elviehui@yahoo.com</td>\n",
              "      <td>NaN</td>\n",
              "      <td>NaN</td>\n",
              "      <td>NaN</td>\n",
              "    </tr>\n",
              "    <tr>\n",
              "      <th>7</th>\n",
              "      <td>Ching Jun Sieng</td>\n",
              "      <td>cjunsieng@yahoo.com</td>\n",
              "      <td>NaN</td>\n",
              "      <td>NaN</td>\n",
              "      <td>NaN</td>\n",
              "    </tr>\n",
              "    <tr>\n",
              "      <th>15</th>\n",
              "      <td>Vi Dea Woo</td>\n",
              "      <td>viddea@yahoo.com</td>\n",
              "      <td>NaN</td>\n",
              "      <td>NaN</td>\n",
              "      <td>NaN</td>\n",
              "    </tr>\n",
              "    <tr>\n",
              "      <th>21</th>\n",
              "      <td>Yoong Chee Kong</td>\n",
              "      <td>yoongcheekong@hotmail.com</td>\n",
              "      <td>NaN</td>\n",
              "      <td>NaN</td>\n",
              "      <td>NaN</td>\n",
              "    </tr>\n",
              "  </tbody>\n",
              "</table>\n",
              "</div>"
            ],
            "text/plain": [
              "                                            Name_x  ... Attended live\n",
              "0   Puteri Nur Nabila Binti Megat Ahmad Kamaluddin  ...           NaN\n",
              "1                                      Foo Hui Hui  ...           NaN\n",
              "7                                  Ching Jun Sieng  ...           NaN\n",
              "15                                      Vi Dea Woo  ...           NaN\n",
              "21                                 Yoong Chee Kong  ...           NaN\n",
              "\n",
              "[5 rows x 5 columns]"
            ]
          },
          "metadata": {},
          "execution_count": 98
        }
      ]
    },
    {
      "cell_type": "code",
      "metadata": {
        "id": "6MitxoDgD4TP",
        "colab": {
          "base_uri": "https://localhost:8080/"
        },
        "outputId": "e4459a55-23bb-4396-f955-86bcb15d08ce"
      },
      "source": [
        "# Dexter\n",
        "# Paid audience analysis\n",
        "# Category 4 - not in activecampaign, registered = yes, attended live = yes\n",
        "pp_category4 = adj_paid[~adj_paid[\"email\"].isin(activecam_sub.Email)]\n",
        "pp_category4 = pp_category4[pp_category4[\"email\"].isin(free_reg2.Email)]\n",
        "pp_category4 = pp_category4[pp_category4[\"email\"].isin(yes_live.Email)]\n",
        "pp_category4.reset_index(drop = True, inplace = True)\n",
        "len(pp_category4)"
      ],
      "execution_count": null,
      "outputs": [
        {
          "output_type": "execute_result",
          "data": {
            "text/plain": [
              "22"
            ]
          },
          "metadata": {},
          "execution_count": 99
        }
      ]
    },
    {
      "cell_type": "code",
      "metadata": {
        "id": "CmMEG-3hDjDi",
        "colab": {
          "base_uri": "https://localhost:8080/",
          "height": 204
        },
        "outputId": "983d1079-c211-4ff6-f7f1-9dbda14c62ff"
      },
      "source": [
        "pp_category4.head()"
      ],
      "execution_count": null,
      "outputs": [
        {
          "output_type": "execute_result",
          "data": {
            "text/html": [
              "<div>\n",
              "<style scoped>\n",
              "    .dataframe tbody tr th:only-of-type {\n",
              "        vertical-align: middle;\n",
              "    }\n",
              "\n",
              "    .dataframe tbody tr th {\n",
              "        vertical-align: top;\n",
              "    }\n",
              "\n",
              "    .dataframe thead th {\n",
              "        text-align: right;\n",
              "    }\n",
              "</style>\n",
              "<table border=\"1\" class=\"dataframe\">\n",
              "  <thead>\n",
              "    <tr style=\"text-align: right;\">\n",
              "      <th></th>\n",
              "      <th>name</th>\n",
              "      <th>email</th>\n",
              "      <th>phone_num</th>\n",
              "    </tr>\n",
              "  </thead>\n",
              "  <tbody>\n",
              "    <tr>\n",
              "      <th>0</th>\n",
              "      <td>Nur Aisyah Binti Ahmad</td>\n",
              "      <td>aisyahahmad96@gmail.com</td>\n",
              "      <td>+60128841505</td>\n",
              "    </tr>\n",
              "    <tr>\n",
              "      <th>1</th>\n",
              "      <td>Normarlina</td>\n",
              "      <td>marlinanorrehan5654@gmail.com</td>\n",
              "      <td>+60163068187</td>\n",
              "    </tr>\n",
              "    <tr>\n",
              "      <th>2</th>\n",
              "      <td>Nur Khairen</td>\n",
              "      <td>khairenzuber96@gmail.com</td>\n",
              "      <td>+60185769285</td>\n",
              "    </tr>\n",
              "    <tr>\n",
              "      <th>3</th>\n",
              "      <td>Yt</td>\n",
              "      <td>y_t_yong@yahoo.com</td>\n",
              "      <td>+60122123805</td>\n",
              "    </tr>\n",
              "    <tr>\n",
              "      <th>4</th>\n",
              "      <td>Lilyrohayu Ab Hamid</td>\n",
              "      <td>lilyrohayu@glomac.com.my</td>\n",
              "      <td>+60192832678</td>\n",
              "    </tr>\n",
              "  </tbody>\n",
              "</table>\n",
              "</div>"
            ],
            "text/plain": [
              "                     name                          email     phone_num\n",
              "0  Nur Aisyah Binti Ahmad        aisyahahmad96@gmail.com  +60128841505\n",
              "1              Normarlina  marlinanorrehan5654@gmail.com  +60163068187\n",
              "2             Nur Khairen       khairenzuber96@gmail.com  +60185769285\n",
              "3                      Yt             y_t_yong@yahoo.com  +60122123805\n",
              "4     Lilyrohayu Ab Hamid       lilyrohayu@glomac.com.my  +60192832678"
            ]
          },
          "metadata": {},
          "execution_count": 100
        }
      ]
    },
    {
      "cell_type": "code",
      "metadata": {
        "id": "DXVxnG2ZwCfg",
        "colab": {
          "base_uri": "https://localhost:8080/"
        },
        "outputId": "b0896436-aab6-46e2-c6d6-d85257f8e018"
      },
      "source": [
        "# Dexter\n",
        "# Category 5 - not in activecampaign, registered = yes, attended live = no\n",
        "pp_category5 = adj_paid[~adj_paid[\"email\"].isin(activecam_sub.Email)]\n",
        "pp_category5 = pp_category5[pp_category5[\"email\"].isin(free_reg2.Email)]\n",
        "pp_category5 = pp_category5[pp_category5[\"email\"].isin(no_live.Email)]\n",
        "pp_category5.reset_index(drop = True, inplace = True)\n",
        "len(pp_category5)"
      ],
      "execution_count": null,
      "outputs": [
        {
          "output_type": "execute_result",
          "data": {
            "text/plain": [
              "1"
            ]
          },
          "metadata": {},
          "execution_count": 101
        }
      ]
    },
    {
      "cell_type": "code",
      "metadata": {
        "id": "uVpTxRLOwc0Y",
        "colab": {
          "base_uri": "https://localhost:8080/"
        },
        "outputId": "8bd078ae-3665-458e-ecff-ad0d97917926"
      },
      "source": [
        "# Dexter\n",
        "# Category 6 - not in activecampaign, registered = no, attended live = no\n",
        "pp_category6 = adj_paid[adj_paid[\"email\"].isin(activecam_sub.Email)]\n",
        "pp_category6 = pp_category6[~pp_category6[\"email\"].isin(free_reg2.Email)]\n",
        "pp_category6 = pp_category6[pp_category6[\"email\"].isin(no_live.Email)]\n",
        "pp_category6.reset_index(drop = True, inplace = True)\n",
        "len(pp_category6)"
      ],
      "execution_count": null,
      "outputs": [
        {
          "output_type": "execute_result",
          "data": {
            "text/plain": [
              "0"
            ]
          },
          "metadata": {},
          "execution_count": 103
        }
      ]
    },
    {
      "cell_type": "code",
      "metadata": {
        "id": "hZLChMTlamoX"
      },
      "source": [
        " #Trinly\n",
        "#drive.mount('/drive', force_remount = True)\n",
        "#pp_category1.to_csv('/drive/My Drive/paid_category1.csv')\n",
        "#pp_category2.to_csv('/drive/My Drive/paid_category2.csv')\n",
        "#pp_category3.to_csv('/drive/My Drive/paid_category3.csv')\n",
        "#pp_category4.to_csv('/drive/My Drive/paid_category4.csv')\n",
        "#signup_trend2.to_csv('/drive/My Drive/signup_trend.csv')"
      ],
      "execution_count": null,
      "outputs": []
    },
    {
      "cell_type": "code",
      "metadata": {
        "id": "7hsmlGORHeA1"
      },
      "source": [
        "#Trinly - for signup trend with drop down list\n",
        "paid_cred4=paid_cred\n",
        "paid_cred4['Category']=\"Credit_card\"\n",
        "paid_cred4=paid_cred4[[\"Category\",\"purchased_at\",\"Email\"]]\n",
        "paid_cred4=paid_cred4.rename(columns={\"purchased_at\":\"date\",\"Email\":\"email\"})\n",
        "paid_cred4.sort_values(by=['date'], inplace=True, ascending=True)\n",
        "paid_cred4.head()\n"
      ],
      "execution_count": null,
      "outputs": []
    },
    {
      "cell_type": "code",
      "metadata": {
        "id": "dncuncgNL4rl"
      },
      "source": [
        "#Trinly - for signup trend with drop down list\n",
        "paid_bankin4=paid_bankin\n",
        "paid_bankin4['Category']=\"Bank_in\"\n",
        "paid_bankin4=paid_bankin4[[\"Category\",\"Timestamp\",\"email\"]]\n",
        "paid_bankin4=paid_bankin4.rename(columns={\"Timestamp\":\"date\"})\n",
        "paid_bankin4.sort_values(by=['date'], inplace=True, ascending=True)\n",
        "paid_bankin4.head()\n",
        "len(paid_bankin4)"
      ],
      "execution_count": null,
      "outputs": []
    },
    {
      "cell_type": "code",
      "metadata": {
        "id": "K21D1yMZMbx1"
      },
      "source": [
        "#Trinly - for signup trend with drop down list\n",
        "signup_trend3=pd.concat([paid_cred4,paid_bankin4],axis=0)\n",
        "signup_trend3.head()"
      ],
      "execution_count": null,
      "outputs": []
    },
    {
      "cell_type": "code",
      "metadata": {
        "id": "May18cSKG5C4"
      },
      "source": [
        "#Trinly-new leads?\n",
        "#number of registrants that joined ON or AFTER 13 july\n",
        "free_reg_after=free_reg_after[free_reg_after[\"Email\"].isin(activecam_sub1.Email)]\n",
        "print(len(free_reg_after))\n",
        "free_reg_after=free_reg_after[~free_reg_after[\"Email\"].isin(activecam_sub.Email)]\n",
        "print(len(free_reg_after))"
      ],
      "execution_count": null,
      "outputs": []
    },
    {
      "cell_type": "code",
      "metadata": {
        "id": "zkT9ULvWgNt4"
      },
      "source": [
        "# Dexter\n",
        "# Sign-up trend analysis (paid_bankin and paid_cred2)\n",
        "# All reformat into MM/DD\n",
        "# paid_bankin current timestamp format: M/D/YYYY HH:MM:SS\n",
        "# paid_cred2 current timestamp format: YYYY-MM-DD\n",
        "paid_cred_time = paid_cred[\"purchased_at\"]\n",
        "paid_bankin_time = paid_bankin[\"Timestamp\"]\n",
        "for i in range(len(paid_cred_time)):\n",
        "  d = datetime.datetime.strptime(paid_cred_time.iloc[i], \"%Y-%m-%d\")\n",
        "  paid_cred_time.iloc[i] = datetime.date.strftime(d, \"%m/%d\")\n",
        "for i in range(len(paid_bankin_time)):\n",
        "  d = datetime.datetime.strptime(paid_bankin_time.iloc[i], \"%m/%d/%Y %H:%M:%S\")\n",
        "  paid_bankin_time.iloc[i] = datetime.date.strftime(d, \"%m/%d\")\n",
        "paid_cred_time = paid_cred_time.to_frame()\n",
        "paid_cred_time = paid_cred_time.rename(columns = {\"purchased_at\": \"date\"})\n",
        "paid_bankin_time = paid_bankin_time.to_frame()\n",
        "paid_bankin_time = paid_bankin_time.rename(columns = {\"Timestamp\": \"date\"})"
      ],
      "execution_count": null,
      "outputs": []
    },
    {
      "cell_type": "code",
      "metadata": {
        "id": "JVZIjZn_tZ-k"
      },
      "source": [
        "# Dexter\n",
        "# Group by date\n",
        "paid_cred_time[\"credit_card\"] = 1\n",
        "paid_cred_time = paid_cred_time.groupby([\"date\"]).sum()\n",
        "paid_bankin_time[\"bank_in\"] = 1\n",
        "paid_bankin_time = paid_bankin_time.groupby([\"date\"]).sum()"
      ],
      "execution_count": null,
      "outputs": []
    },
    {
      "cell_type": "code",
      "metadata": {
        "id": "nUbGFljDTah4"
      },
      "source": [
        "# Dexter\n",
        "# Merge them together\n",
        "signup_trend = paid_cred_time.merge(paid_bankin_time, how = \"left\", on = \"date\")\n",
        "signup_trend = signup_trend.fillna(0)\n",
        "signup_trend.sort_values(by = \"date\")\n",
        "signup_trend = signup_trend.astype(int)\n",
        "signup_trend.reset_index(inplace = True)\n",
        "# Change the date format into DD/MM\n",
        "signup_trend['date'] = pd.to_datetime(signup_trend['date'], format = \"%m/%d\").dt.strftime(\"%d/%m\")\n",
        "signup_trend[\"total\"] = signup_trend[\"credit_card\"] + signup_trend[\"bank_in\"]\n",
        "signup_trend.head()"
      ],
      "execution_count": null,
      "outputs": []
    },
    {
      "cell_type": "code",
      "metadata": {
        "id": "yLoOeG_ne5X0"
      },
      "source": [
        "# Dexter\n",
        "# To draw a trend line, we should include all dates from 21/6 until 1/8 in signup_trend\n",
        "alldate = pd.date_range(start=\"2021-06-21\",end=\"2021-08-30\").tolist()\n",
        "alldate = pd.DataFrame(alldate, columns = [\"date\"])\n",
        "alldate['date'] = pd.to_datetime(alldate['date'], format = \"%Y-%m-%d\").dt.strftime(\"%d/%m\")\n",
        "alldate.head()"
      ],
      "execution_count": null,
      "outputs": []
    },
    {
      "cell_type": "code",
      "metadata": {
        "id": "eiUORQ1vh14K"
      },
      "source": [
        "# Dexter\n",
        "# Merge alldate and signup_trend\n",
        "signup_trend2 = pd.merge(alldate, signup_trend, how = \"left\")\n",
        "signup_trend2 = signup_trend2.fillna(0)\n",
        "signup_trend2[[\"credit_card\", \"bank_in\", \"total\"]] = signup_trend2[[\"credit_card\", \"bank_in\", \"total\"]].astype(int)\n",
        "signup_trend2.head()"
      ],
      "execution_count": null,
      "outputs": []
    },
    {
      "cell_type": "code",
      "metadata": {
        "id": "Lbu8fwTwjn_C"
      },
      "source": [
        "# Dexter\n",
        "# signup_trend2 visualisation, suggest to use stacked bar chart\n",
        "signup_trend2[[\"date\", \"credit_card\", \"bank_in\"]].plot(x='date', kind='bar', stacked=True, title='Sign-up Trend Analysis', figsize = (12, 4))"
      ],
      "execution_count": null,
      "outputs": []
    },
    {
      "cell_type": "code",
      "metadata": {
        "id": "F-CR2xRLisx8"
      },
      "source": [
        "#signup trend for paid\n",
        "pp1_trend=pd.merge(pp_category1,signup_trend3,how='left')\n",
        "pp1_trend=pp1_trend[[\"date\",\"name\",\"email\",\"phone_num\",\"Category\"]]\n",
        "pp1_trend=pp1_trend.rename(columns={\"Category\":\"Method\"})\n",
        "pp1_trend['category']=\"p1:AC1,R1,AL1\"\n",
        "\n",
        "pp2_trend=pd.merge(pp_category2,signup_trend3,how='left')\n",
        "pp2_trend=pp2_trend[[\"date\",\"name\",\"email\",\"phone_num\",\"Category\"]]\n",
        "pp2_trend['category']=\"p2:AC1,R1,AL0\"\n",
        "pp2_trend=pp2_trend.rename(columns={\"Category\":\"Method\"})\n",
        "\n",
        "pp3_trend=pd.merge(pp_category3,signup_trend3,how='left')\n",
        "pp3_trend=pp3_trend[[\"date\",\"name\",\"email\",\"phone_num\",\"Category\"]]\n",
        "pp3_trend['category']=\"p3:AC1,R0,AL0\"\n",
        "pp3_trend=pp3_trend.rename(columns={\"Category\":\"Method\"})\n",
        "\n",
        "pp4_trend=pd.merge(pp_category4,signup_trend3,how='left')\n",
        "pp4_trend=pp4_trend[[\"date\",\"name\",\"email\",\"phone_num\",\"Category\"]]\n",
        "pp4_trend['category']=\"p4:AC0,R1,AL1\"\n",
        "pp4_trend=pp4_trend.rename(columns={\"Category\":\"Method\"})\n",
        "\n",
        "pp5_trend=pd.merge(pp_category5,signup_trend3,how='left')\n",
        "pp5_trend=pp5_trend[[\"date\",\"name\",\"email\",\"phone_num\",\"Category\"]]\n",
        "pp5_trend['category']=\"p5:AC0,R1,AL0\"\n",
        "pp5_trend=pp5_trend.rename(columns={\"Category\":\"Method\"})\n",
        "\n",
        "paid_trend=pd.concat([pp1_trend,pp2_trend,pp3_trend,pp4_trend,pp5_trend],axis=0)"
      ],
      "execution_count": null,
      "outputs": []
    },
    {
      "cell_type": "code",
      "metadata": {
        "id": "d27aHqqeM92s"
      },
      "source": [
        "#TO EXPORT- !!DATA HAS CHANGED !!\n",
        "\n",
        "\n",
        "#drive.mount('/drive', force_remount = True)\n",
        "#signup_trend3.to_csv('/drive/My Drive/signup_trend3.csv')\n",
        "#np_category1.to_csv('/drive/My Drive/np_category1.csv')\n",
        "#np_category2.to_csv('/drive/My Drive/np_category2.csv')\n",
        "#np_category4.to_csv('/drive/My Drive/np_category4.csv')\n",
        "#paid_all.to_csv('/drive/My Drive/paid_all.csv')\n",
        "#paid_bankin.to_csv('/drive/My Drive/paid_bankin.csv')\n",
        "#paid_cred2.to_csv('/drive/My Drive/paid_cred.csv')\n",
        "#paid_free.to_csv('/drive/My Drive/paid_free.csv')\n",
        "#p_category1.to_csv('/drive/My Drive/paid_category1.csv')\n",
        "#p_category2.to_csv('/drive/My Drive/paid_category2.csv')\n",
        "#p_category3.to_csv('/drive/My Drive/paid_category3.csv')\n",
        "#p_category4.to_csv('/drive/My Drive/paid_category4.csv')"
      ],
      "execution_count": null,
      "outputs": []
    },
    {
      "cell_type": "code",
      "metadata": {
        "id": "ZvxnlSQ9f9_l"
      },
      "source": [
        "# drive.mount('/drive', force_remount = True)\n",
        "# signup_trend2.to_csv('/drive/My Drive/signup_trend.csv')\n",
        "# signup_trend3.to_csv('/drive/My Drive/signup_trend3.csv')"
      ],
      "execution_count": null,
      "outputs": []
    },
    {
      "cell_type": "code",
      "metadata": {
        "id": "ZFbtcGba6xYj"
      },
      "source": [
        "#NEW DATA TO EXPORT\n",
        "#drive.mount('/drive', force_remount = True)\n",
        "#np_category4.to_csv('/drive/My Drive/np_category4.csv')\n",
        "#np_category5.to_csv('/drive/My Drive/np_category5.csv')\n",
        "#pp_category4.to_csv('/drive/My Drive/p_category4.csv')\n",
        "#pp_category5.to_csv('/drive/My Drive/p_category5.csv')\n",
        "#paid_trend.to_csv('/drive/My Drive/paid_trend.csv')\n",
        "#DONE"
      ],
      "execution_count": null,
      "outputs": []
    },
    {
      "cell_type": "code",
      "metadata": {
        "id": "rF0u90jKrWcI"
      },
      "source": [
        "paid_free"
      ],
      "execution_count": null,
      "outputs": []
    },
    {
      "cell_type": "code",
      "metadata": {
        "id": "jN0zai2zEPpE"
      },
      "source": [
        "paid_trend"
      ],
      "execution_count": null,
      "outputs": []
    },
    {
      "cell_type": "code",
      "metadata": {
        "id": "TlvTDu-gEQuH"
      },
      "source": [
        "#drive.mount('/drive', force_remount = True)\n",
        "#free_reg_after.to_csv('/drive/My Drive/reg_after_13July.csv')"
      ],
      "execution_count": null,
      "outputs": []
    },
    {
      "cell_type": "code",
      "metadata": {
        "id": "TrCc-xNEyc-_"
      },
      "source": [
        "paid_after=paid_after[paid_after[\"email\"].isin(activecam_sub1.Email)]\n",
        "print(len(paid_after))\n",
        "paid_after=paid_after[~paid_after[\"email\"].isin(paid_all.Email)]\n",
        "paid_after = paid_after.drop_duplicates(subset=\"email\", keep=\"last\")  "
      ],
      "execution_count": null,
      "outputs": []
    }
  ]
}