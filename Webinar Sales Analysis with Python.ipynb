{
  "nbformat": 4,
  "nbformat_minor": 0,
  "metadata": {
    "colab": {
      "name": "Copy of Capital Reduction",
      "provenance": [],
      "collapsed_sections": []
    },
    "kernelspec": {
      "display_name": "Python 3",
      "name": "python3"
    },
    "language_info": {
      "name": "python"
    }
  },
  "cells": [
    {
      "cell_type": "code",
      "metadata": {
        "id": "2GwDh-n96_hU"
      },
      "source": [
        "# import all necessary libraries\n",
        "import pandas as pd\n",
        "import datetime\n",
        "import time\n",
        "import matplotlib.pyplot as plt"
      ],
      "execution_count": null,
      "outputs": []
    },
    {
      "cell_type": "code",
      "metadata": {
        "id": "ciLQ-HUSibg4"
      },
      "source": [
        "# read all csv files\n",
        "all_course_paid_bankin = pd.read_csv('all_course_paid_bankin.csv')\n",
        "free_reg = pd.read_csv('free_reg.csv', keep_default_na=False)\n",
        "paid = pd.read_csv('paid.csv')\n",
        "paid_cred = pd.read_csv('paid_cred.csv')\n",
        "activecam_sub = pd.read_csv('activecam_sub.csv')"
      ],
      "execution_count": null,
      "outputs": []
    },
    {
      "cell_type": "code",
      "metadata": {
        "id": "VO-LgOedG8nP"
      },
      "source": [
        "free_reg_after=free_reg"
      ],
      "execution_count": null,
      "outputs": []
    },
    {
      "cell_type": "code",
      "metadata": {
        "id": "rfNip_vrp4EK"
      },
      "source": [
        "activecam_sub1= activecam_sub[activecam_sub[\"Date Created\"] >= \"2021-07-13\"]"
      ],
      "execution_count": null,
      "outputs": []
    },
    {
      "cell_type": "code",
      "metadata": {
        "id": "GW9WrRRemvE_"
      },
      "source": [
        "# Since all_course_paid_bankin contains all courses, we need to extract the Capital Reduction course from all_course_paid_bankin and save it as paid_bankin\n",
        "paid_bankin = all_course_paid_bankin[all_course_paid_bankin['Course Name'].str.contains(\"capital\", case = False, na = False)]\n",
        "# Extract ActiveCampaign subscribers that subscribed before 13/7\n",
        "activecam_sub = activecam_sub[activecam_sub[\"Date Created\"] < \"2021-07-13\"]"
      ],
      "execution_count": null,
      "outputs": []
    },
    {
      "cell_type": "code",
      "metadata": {
        "id": "FBXF_Tt9TZEW"
      },
      "source": [
        "# Refer to Trinly, extract all columns needed\n",
        "paid_bankin = paid_bankin[[\"Timestamp\", \"Email Address\", \"Your Name (Put in Learnabee)\", \"Your Whatsapp Number\"]]\n",
        "free_reg = free_reg[[\"First name\", \"Last name\", \"Phone number\", \"Email\", \"Registration date\", \"Attended live\"]]\n",
        "paid = paid[[\"fullname\", \"email\"]]\n",
        "paid_cred = paid_cred[[\"purchased_at\", \"user\", \"user_email\"]]\n",
        "activecam_sub = activecam_sub[[\"Email\"]]"
      ],
      "execution_count": null,
      "outputs": []
    },
    {
      "cell_type": "code",
      "metadata": {
        "id": "pwxHtwJzh9J-"
      },
      "source": [
        "#Data Cleansing - Make email address lower case\n",
        "free_reg[\"Email\"] = free_reg[\"Email\"].str.lower()\n",
        "free_reg\n",
        "# Data Cleansing - Join First name and Last name into Name, then capitalise first letters of both\n",
        "free_reg[\"Name\"] = free_reg[\"First name\"] + \" \" + free_reg[\"Last name\"]\n",
        "free_reg[\"Name\"] = free_reg['Name'].str.title()\n",
        "# rearrange collumns to keep \n",
        "free_reg1 = free_reg[[\"Name\", \"Phone number\", \"Email\", \"Registration date\", \"Attended live\"]]\n",
        "free_reg1.head()"
      ],
      "execution_count": null,
      "outputs": []
    },
    {
      "cell_type": "code",
      "metadata": {
        "id": "Jzh526v2a5Vt"
      },
      "source": [
        "# Data Cleansing - Make email address lower case\n",
        "activecam_sub[\"Email\"] = activecam_sub[\"Email\"].str.lower()\n",
        "activecam_sub1[\"Email\"]=activecam_sub1[\"Email\"].str.lower()\n",
        "# Remove duplicates\n",
        "activecam_sub = activecam_sub.drop_duplicates(subset = \"Email\")\n",
        "activecam_sub1 = activecam_sub1.drop_duplicates(subset = \"Email\")"
      ],
      "execution_count": null,
      "outputs": []
    },
    {
      "cell_type": "code",
      "metadata": {
        "id": "xnH-o83Jzr5a"
      },
      "source": [
        "#DC-finding duplicates and view them to analyse which to keep\n",
        "duplicates = pd.concat(g for _, g in free_reg1.groupby(\"Email\") if len(g) > 1)\n",
        "duplicates1 = duplicates[[\"Name\", \"Email\", \"Attended live\"]]\n",
        "print(duplicates1)\n",
        "#since 2nd duplicate indicates yes or no, remove first duplicate"
      ],
      "execution_count": null,
      "outputs": []
    },
    {
      "cell_type": "code",
      "metadata": {
        "id": "a_n0mDFk6FYl"
      },
      "source": [
        "#DC-drop duplicates and keep last entry only\n",
        "free_reg2 = free_reg1.drop_duplicates(subset=\"Email\", keep=\"last\")  \n",
        "#Remove entries with duplicated phone numbers\n",
        "free_reg2 = free_reg2.drop_duplicates(subset=\"Phone number\", keep=\"last\")\n",
        "dup_phone = free_reg2[free_reg2.duplicated(['Phone number'])]\n",
        "print(\"Duplicated rows based on phone numbers are:\", dup_phone, sep='\\n')"
      ],
      "execution_count": null,
      "outputs": []
    },
    {
      "cell_type": "code",
      "metadata": {
        "id": "RQhnwNQdHYkT"
      },
      "source": [
        "# Change the data type of phone number to string\n",
        "free_reg3 = free_reg2[\"Phone number\"].astype(str)\n",
        "# Reformatting the phone number\n",
        "for i in range(len(free_reg3)):\n",
        "  if free_reg3.iloc[i][0] == '6':\n",
        "    free_reg3.iloc[i] = \"+\" + free_reg3.iloc[i]\n",
        "  elif len(free_reg3.iloc[i]) < 9:\n",
        "    free_reg3.iloc[i] = \"+603\" + free_reg3.iloc[i]\n",
        "  elif (len(free_reg3.iloc[i]) >= 9) and (free_reg3.iloc[i][0] == '1' or free_reg3.iloc[i][0] == '3'):\n",
        "    free_reg3.iloc[i] = \"+60\" + free_reg3.iloc[i]\n",
        "  else:\n",
        "    free_reg3.iloc[i] = \"+6\" + free_reg3.iloc[i]\n",
        "free_reg2[\"Phone number\"] = free_reg3"
      ],
      "execution_count": null,
      "outputs": []
    },
    {
      "cell_type": "code",
      "metadata": {
        "id": "OI1x7u0xY5Qp"
      },
      "source": [
        "# Category 4 - non-paid users in free_reg but not in ActiveCampaign list attended live\n",
        "np_category4 = free_reg2[~free_reg2[\"Email\"].isin(paid.email)]\n",
        "np_category4 = np_category4[~np_category4[\"Email\"].isin(activecam_sub.Email)]\n",
        "np_category4 = np_category4[np_category4['Attended live'].str.contains(\"Yes\")]\n",
        "len(np_category4)"
      ],
      "execution_count": null,
      "outputs": []
    },
    {
      "cell_type": "code",
      "metadata": {
        "id": "QzCEWqbS71fn"
      },
      "source": [
        "# Category 5 - non-paid users in free_reg but not in ActiveCampaign list did not attend live\n",
        "np_category5 = free_reg2[~free_reg2[\"Email\"].isin(paid.email)]\n",
        "np_category5 = np_category5[~np_category5[\"Email\"].isin(activecam_sub.Email)]\n",
        "np_category5 = np_category5[np_category5['Attended live'].str.contains(\"No\")]\n",
        "len(np_category5)"
      ],
      "execution_count": null,
      "outputs": []
    },
    {
      "cell_type": "code",
      "metadata": {
        "id": "wHx__Z52jQBL"
      },
      "source": [
        "# Category 1 - Registered = Yes, Attended live = Yes, Paid = No\n",
        "np_category1 = free_reg2[free_reg2['Attended live'].str.contains(\"Yes\")]\n",
        "np_category1 = np_category1[np_category1[\"Email\"].isin(activecam_sub.Email)] #trinly-prevoiusly wasnt finding for <13 july\n",
        "np_category1 = np_category1[~np_category1[\"Email\"].isin(paid.email)]\n",
        "np_category1 = np_category1[[\"Name\", \"Phone number\", \"Email\"]]\n",
        "np_category1.reset_index(drop = True, inplace = True)\n",
        "# Count Entries(no of registrants/rows)\n",
        "len(np_category1.index)"
      ],
      "execution_count": null,
      "outputs": []
    },
    {
      "cell_type": "code",
      "metadata": {
        "id": "QKhOKyvFXvsZ"
      },
      "source": [
        "# Category 2 - Registered = Yes, Attended live = No, Paid = No\n",
        "np_category2 = free_reg2[free_reg2['Attended live'].str.contains(\"No\")]\n",
        "np_category2 = np_category2[np_category2[\"Email\"].isin(activecam_sub.Email)] #trinly-prevoiusly wasnt finding for <13 july\n",
        "np_category2 = np_category2[~np_category2[\"Email\"].isin(paid.email)]\n",
        "np_category2 = np_category2[[\"Name\", \"Phone number\", \"Email\"]]\n",
        "np_category2.reset_index(drop = True, inplace = True)\n",
        "# Count Entries- shows that dexters code succesfully narrowed down entries\n",
        "len(np_category2.index)"
      ],
      "execution_count": null,
      "outputs": []
    },
    {
      "cell_type": "code",
      "metadata": {
        "id": "NWJSpvWsF0OM"
      },
      "source": [
        "#added and cleaned at [19] part of code so can remove this??-Trinly\n",
        "dup_phone = free_reg2[free_reg2.duplicated(['Phone number'])]\n",
        "print(\"Duplicated rows based on phone numbers are:\", dup_phone, sep='\\n')"
      ],
      "execution_count": null,
      "outputs": []
    },
    {
      "cell_type": "code",
      "metadata": {
        "id": "pvDKPHXqsAtS"
      },
      "source": [
        "# Category 3 - Registered = No, Attended live = No, Paid = No\n",
        "np_category3 = free_reg2[free_reg2[\"Registration date\"].isna()]\n",
        "len(np_category3)"
      ],
      "execution_count": null,
      "outputs": []
    },
    {
      "cell_type": "code",
      "metadata": {
        "id": "2aMgSCPEQZYV"
      },
      "source": [
        "# Export data \n",
        "#from google.colab import drive\n",
        "#drive.mount('/drive', force_remount = True)\n",
        "#np_category1.to_csv('/drive/My Drive/nonpaid_category1.csv')\n",
        "#np_category2.to_csv('/drive/My Drive/nonpaid_category2.csv')"
      ],
      "execution_count": null,
      "outputs": []
    },
    {
      "cell_type": "code",
      "metadata": {
        "id": "oYLP1_3WdIJf"
      },
      "source": [
        "# Data Cleansing - Make email address lower case\n",
        "paid[\"email\"] = paid[\"email\"].str.lower()\n",
        "paid_bankin[\"Email Address\"] = paid_bankin[\"Email Address\"].str.lower()\n",
        "paid_cred[\"user_email\"] = paid_cred[\"user_email\"].str.lower()\n",
        "# Remove duplicates\n",
        "paid = paid.drop_duplicates(subset = \"email\")\n",
        "paid_bankin = paid_bankin.drop_duplicates(subset = \"Email Address\")\n",
        "paid_cred = paid_cred.drop_duplicates(subset = \"user_email\")\n",
        "# Reformat name\n",
        "paid[\"fullname\"] = paid[\"fullname\"].str.title()\n",
        "paid_bankin[\"Your Name (Put in Learnabee)\"] = paid_bankin[\"Your Name (Put in Learnabee)\"].str.title()\n",
        "paid_cred[\"user\"] = paid_cred[\"user\"].str.title()"
      ],
      "execution_count": null,
      "outputs": []
    },
    {
      "cell_type": "code",
      "metadata": {
        "id": "tV5kEIXGyV6_"
      },
      "source": [
        "paid_after=paid"
      ],
      "execution_count": null,
      "outputs": []
    },
    {
      "cell_type": "code",
      "metadata": {
        "id": "BRImTOk46oBf"
      },
      "source": [
        "# Length of each category\n",
        "print(len(paid), len(paid_bankin), len(paid_cred))\n",
        "# Conclusion: paid(254) = paid_bankin(25) + paid_cred(223) + paid_free(5)\n",
        "# We want to identify paid_free"
      ],
      "execution_count": null,
      "outputs": []
    },
    {
      "cell_type": "code",
      "metadata": {
        "id": "Rz_BSXap7k8j"
      },
      "source": [
        "# Identify paid_free\n",
        "paid_free = paid[~paid[\"email\"].isin(paid_bankin[\"Email Address\"])]\n",
        "paid_free = paid_free[~paid_free[\"email\"].isin(paid_cred[\"user_email\"])]\n",
        "# However, len(paid_free) is 8 but not 6, so we filter out again by comparing name\n",
        "paid_free = paid_free[~paid_free[\"fullname\"].isin(paid_cred[\"user\"])]\n",
        "paid_free = paid_free[~paid_free[\"fullname\"].isin(paid_bankin[\"Your Name (Put in Learnabee)\"])]\n",
        "# We can identify that their email is not consistent/ type wrongly, now len(paid_free) is 7\n",
        "# remove Lynn Koay (special case), now the length is 6 as desired\n",
        "paid_free = paid_free[paid_free[\"fullname\"]!=\"Lynn Koay\"]\n",
        "print(len(paid_free))"
      ],
      "execution_count": null,
      "outputs": []
    },
    {
      "cell_type": "code",
      "metadata": {
        "id": "OrjGQGVdX84Y"
      },
      "source": [
        "#Lookup and add available phone numbers to paid\n",
        "#Change col name to be able to merge based on email\n",
        "paid = paid.rename(columns={'email': 'Email'})\n",
        "\n",
        "#merge to get phone numbers in paid master list\n",
        "paid2= pd.merge(free_reg2,paid,how='right')\n",
        "paid2= paid2[[\"fullname\",\"Email\",\"Phone number\"]]\n",
        "paid2"
      ],
      "execution_count": null,
      "outputs": []
    },
    {
      "cell_type": "code",
      "metadata": {
        "id": "GqWNNs9YhkJb"
      },
      "source": [
        "#Lookup and add available phone numbers tp paid_cred\n",
        "paid_cred = paid_cred.rename(columns={'user_email': 'Email'})\n",
        "paid_cred2=pd.merge(paid_cred,free_reg2,how='left')\n",
        "paid_cred2=paid_cred2[['purchased_at','user','Email','Phone number']]\n",
        "paid_cred2.head()\n",
        "#paid_bankin already has phone numbers"
      ],
      "execution_count": null,
      "outputs": []
    },
    {
      "cell_type": "code",
      "metadata": {
        "id": "1rZjzJ_kx5Wb"
      },
      "source": [
        "# Clean phone numbers for paid_bankin\n",
        "# Change the data type of phone number to string\n",
        "paid_bankin2 = paid_bankin[\"Your Whatsapp Number\"].astype(str)\n",
        "# Reformatting the phone number\n",
        "for i in range(len(paid_bankin2)):\n",
        "  paid_bankin2.iloc[i] = paid_bankin2.iloc[i].replace(' ','')\n",
        "  if '-' in paid_bankin2.iloc[i]:\n",
        "    paid_bankin2.iloc[i] = paid_bankin2.iloc[i].replace('-','')\n",
        "  if paid_bankin2.iloc[i][0] == '6':\n",
        "    paid_bankin2.iloc[i] = \"+\" + paid_bankin2.iloc[i]\n",
        "  elif len(paid_bankin2.iloc[i]) < 9:\n",
        "    paid_bankin2.iloc[i] = \"+603\" + paid_bankin2.iloc[i]\n",
        "  elif (len(paid_bankin2.iloc[i]) >= 9) and (paid_bankin2.iloc[i][0] == '1' or paid_bankin2.iloc[i][0] == '3'):\n",
        "    paid_bankin2.iloc[i] = \"+60\" + paid_bankin2.iloc[i]\n",
        "  else:\n",
        "    paid_bankin2.iloc[i] = \"+6\" + paid_bankin2.iloc[i]\n",
        "paid_bankin[\"Your Whatsapp Number\"] = paid_bankin2\n",
        "paid_bankin.reset_index(drop = True, inplace = True)"
      ],
      "execution_count": null,
      "outputs": []
    },
    {
      "cell_type": "code",
      "metadata": {
        "id": "wRXWz3ngDi17"
      },
      "source": [
        "from google.colab import drive\n",
        "#drive.mount('/drive', force_remount = True)\n",
        "#paid2.to_csv('/drive/My Drive/paid.csv')\n",
        "#paid_bankin.to_csv('/drive/My Drive/paid_bankin.csv')\n",
        "#paid_cred2.to_csv('/drive/My Drive/paid_cred.csv')\n",
        "#paid_free.to_csv('/drive/My Drive/paid_free.csv')"
      ],
      "execution_count": null,
      "outputs": []
    },
    {
      "cell_type": "code",
      "metadata": {
        "id": "b7PAns5nbh80"
      },
      "source": [
        "#Make all paid list where all_paid= paid_bankin + paid_cred\n",
        "paid_bankin3= paid_bankin[[\"Your Name (Put in Learnabee)\",\"Email Address\",\"Your Whatsapp Number\"]]\n",
        "paid_bankin3=paid_bankin3.rename(columns={'Email Address':'Email'})\n",
        "paid_bankin3= paid_bankin3.rename(columns={'Your Name (Put in Learnabee)':'Name'})\n",
        "paid_bankin3= paid_bankin3.rename(columns={'Your Whatsapp Number':'Phone number'})\n",
        "paid_cred3=paid_cred2[['user','Email','Phone number']]\n",
        "paid_cred3= paid_cred3.rename(columns={'user':'Name'})\n",
        "paid_all= pd.concat([paid_cred3,paid_bankin3],axis=0)\n",
        "len(paid_all)"
      ],
      "execution_count": null,
      "outputs": []
    },
    {
      "cell_type": "code",
      "metadata": {
        "id": "2oEBDY04TnvV"
      },
      "source": [
        "# After indentified paid_free, find out adj_paid\n",
        "paid_bankin = paid_bankin.rename(columns = {\"Your Name (Put in Learnabee)\": \"name\", \"Email Address\": \"email\", \"Your Whatsapp Number\": \"phone_num\"})\n",
        "paid_cred2 = paid_cred2.rename(columns = {\"user\": \"name\", \"Phone number\": \"phone_num\", \"Email\": \"email\"})\n",
        "adj_paid = pd.merge(paid_bankin, paid_cred2, how = \"outer\")"
      ],
      "execution_count": null,
      "outputs": []
    },
    {
      "cell_type": "code",
      "metadata": {
        "id": "dYb9XD6lgVU4"
      },
      "source": [
        "adj_paid2= adj_paid[[\"Timestamp\",\"name\", \"email\", \"phone_num\"]]\n",
        "adj_paid2.head()"
      ],
      "execution_count": null,
      "outputs": []
    },
    {
      "cell_type": "code",
      "metadata": {
        "id": "GsUVByz8f3Fe"
      },
      "source": [
        "adj_paid = adj_paid[[\"name\", \"email\", \"phone_num\"]]\n",
        "len(adj_paid)"
      ],
      "execution_count": null,
      "outputs": []
    },
    {
      "cell_type": "code",
      "metadata": {
        "id": "heoFE3xQeyFe"
      },
      "source": [
        "#paid, registered and attended free session\n",
        "p_category1= pd.merge(paid_all,free_reg2,on='Email',how='left')\n",
        "p_category1=p_category1[p_category1[\"Email\"].isin(activecam_sub.Email)]\n",
        "p_category1=p_category1.loc[p_category1['Attended live'].isin(['Yes'])]\n",
        "p_category1=p_category1[[\"Name_x\",\"Email\",\"Phone number_x\",\"Registration date\",\"Attended live\"]]\n",
        "p_category1.head()\n",
        "len(p_category1)"
      ],
      "execution_count": null,
      "outputs": []
    },
    {
      "cell_type": "code",
      "metadata": {
        "id": "46A74rF3GsIv"
      },
      "source": [
        "# Paid audience analysis\n",
        "# Category 1 - Registered = Yes, Attended live = Yes\n",
        "yes_live = free_reg2[free_reg2[\"Attended live\"].str.contains(\"Yes\")]\n",
        "pp_category1 = adj_paid[adj_paid[\"email\"].isin(yes_live.Email)]\n",
        "pp_category1 = pp_category1[pp_category1[\"email\"].isin(activecam_sub.Email)]\n",
        "pp_category1.reset_index(drop = True, inplace = True)\n",
        "len(pp_category1)"
      ],
      "execution_count": null,
      "outputs": []
    },
    {
      "cell_type": "code",
      "metadata": {
        "id": "rUQS7Xlfhgu4"
      },
      "source": [
        "#paid, registered and did not attend free session\n",
        "p_category2= pd.merge(paid_all,free_reg2,on='Email',how='left')\n",
        "p_category2=p_category2.loc[p_category2['Attended live'].isin(['No'])]\n",
        "p_category2=p_category2[p_category2[\"Email\"].isin(activecam_sub.Email)]\n",
        "p_category2=p_category2[[\"Name_x\",\"Email\",\"Phone number_x\",\"Registration date\",\"Attended live\"]]\n",
        "p_category2.head()\n",
        "len(p_category2)"
      ],
      "execution_count": null,
      "outputs": []
    },
    {
      "cell_type": "code",
      "metadata": {
        "id": "RWln0H0AGq9v"
      },
      "source": [
        "# Paid audience analysis\n",
        "# Category 2 - Registered = Yes, Attended live = No\n",
        "no_live = free_reg2[free_reg2[\"Attended live\"].str.contains(\"No\")]\n",
        "pp_category2 = adj_paid[adj_paid[\"email\"].isin(no_live.Email)]\n",
        "pp_category2 = pp_category2[pp_category2[\"email\"].isin(activecam_sub.Email)]\n",
        "pp_category2.reset_index(drop = True, inplace = True)\n",
        "len(pp_category2)"
      ],
      "execution_count": null,
      "outputs": []
    },
    {
      "cell_type": "code",
      "metadata": {
        "id": "GjEN9510iSwD"
      },
      "source": [
        "p_category3=pd.merge(paid_all,free_reg2,on='Email',how='left')\n",
        "p_category3=p_category3[p_category3['Registration date'].isna()]\n",
        "p_category3=p_category3[p_category3[\"Email\"].isin(activecam_sub.Email)]\n",
        "p_category3=p_category3[[\"Name_x\",\"Email\",\"Phone number_x\",\"Registration date\",\"Attended live\"]]\n",
        "len(p_category3)\n",
        "#If they didnt register they cannot attend the live then attended live is n/a which means they did not attend live"
      ],
      "execution_count": null,
      "outputs": []
    },
    {
      "cell_type": "code",
      "metadata": {
        "id": "fa-rhBxGEXGw"
      },
      "source": [
        "# Paid audience analysis\n",
        "# Category 3 - Registered = No, Attended live = No\n",
        "pp_category3 = adj_paid[~adj_paid[\"email\"].isin(free_reg2.Email)]\n",
        "pp_category3 = pp_category3[pp_category3[\"email\"].isin(activecam_sub.Email)]\n",
        "pp_category3.reset_index(drop = True, inplace = True)\n",
        "len(pp_category3)"
      ],
      "execution_count": null,
      "outputs": []
    },
    {
      "cell_type": "code",
      "metadata": {
        "id": "HSNjhAwRF0xK"
      },
      "source": [
        "p_category4= pd.merge(paid_all,free_reg2,on='Email',how='left')\n",
        "p_category4=p_category4[~p_category4[\"Email\"].isin(activecam_sub.Email)]\n",
        "\n",
        "p_category4=p_category4[[\"Name_x\",\"Email\",\"Phone number_x\",\"Registration date\",\"Attended live\"]]\n",
        "len(p_category4)\n",
        "p_category4.head()"
      ],
      "execution_count": null,
      "outputs": []
    },
    {
      "cell_type": "code",
      "metadata": {
        "id": "6MitxoDgD4TP"
      },
      "source": [
        "# Paid audience analysis\n",
        "# Category 4 - not in activecampaign, registered = yes, attended live = yes\n",
        "pp_category4 = adj_paid[~adj_paid[\"email\"].isin(activecam_sub.Email)]\n",
        "pp_category4 = pp_category4[pp_category4[\"email\"].isin(free_reg2.Email)]\n",
        "pp_category4 = pp_category4[pp_category4[\"email\"].isin(yes_live.Email)]\n",
        "pp_category4.reset_index(drop = True, inplace = True)\n",
        "len(pp_category4)"
      ],
      "execution_count": null,
      "outputs": []
    },
    {
      "cell_type": "code",
      "metadata": {
        "id": "DXVxnG2ZwCfg"
      },
      "source": [
        "# Category 5 - not in activecampaign, registered = yes, attended live = no\n",
        "pp_category5 = adj_paid[~adj_paid[\"email\"].isin(activecam_sub.Email)]\n",
        "pp_category5 = pp_category5[pp_category5[\"email\"].isin(free_reg2.Email)]\n",
        "pp_category5 = pp_category5[pp_category5[\"email\"].isin(no_live.Email)]\n",
        "pp_category5.reset_index(drop = True, inplace = True)\n",
        "len(pp_category5)"
      ],
      "execution_count": null,
      "outputs": []
    },
    {
      "cell_type": "code",
      "metadata": {
        "id": "uVpTxRLOwc0Y"
      },
      "source": [
        "# Category 6 - not in activecampaign, registered = no, attended live = no\n",
        "pp_category6 = adj_paid[adj_paid[\"email\"].isin(activecam_sub.Email)]\n",
        "pp_category6 = pp_category6[~pp_category6[\"email\"].isin(free_reg2.Email)]\n",
        "pp_category6 = pp_category6[pp_category6[\"email\"].isin(no_live.Email)]\n",
        "pp_category6.reset_index(drop = True, inplace = True)\n",
        "len(pp_category6)"
      ],
      "execution_count": null,
      "outputs": []
    },
    {
      "cell_type": "code",
      "metadata": {
        "id": "hZLChMTlamoX"
      },
      "source": [
        "#drive.mount('/drive', force_remount = True)\n",
        "#pp_category1.to_csv('/drive/My Drive/paid_category1.csv')\n",
        "#pp_category2.to_csv('/drive/My Drive/paid_category2.csv')\n",
        "#pp_category3.to_csv('/drive/My Drive/paid_category3.csv')\n",
        "#pp_category4.to_csv('/drive/My Drive/paid_category4.csv')\n",
        "#signup_trend2.to_csv('/drive/My Drive/signup_trend.csv')"
      ],
      "execution_count": null,
      "outputs": []
    },
    {
      "cell_type": "code",
      "metadata": {
        "id": "7hsmlGORHeA1"
      },
      "source": [
        "#for signup trend with drop down list\n",
        "paid_cred4=paid_cred\n",
        "paid_cred4['Category']=\"Credit_card\"\n",
        "paid_cred4=paid_cred4[[\"Category\",\"purchased_at\",\"Email\"]]\n",
        "paid_cred4=paid_cred4.rename(columns={\"purchased_at\":\"date\",\"Email\":\"email\"})\n",
        "paid_cred4.sort_values(by=['date'], inplace=True, ascending=True)\n",
        "paid_cred4.head()"
      ],
      "execution_count": null,
      "outputs": []
    },
    {
      "cell_type": "code",
      "metadata": {
        "id": "dncuncgNL4rl"
      },
      "source": [
        "#for signup trend with drop down list\n",
        "paid_bankin4=paid_bankin\n",
        "paid_bankin4['Category']=\"Bank_in\"\n",
        "paid_bankin4=paid_bankin4[[\"Category\",\"Timestamp\",\"email\"]]\n",
        "paid_bankin4=paid_bankin4.rename(columns={\"Timestamp\":\"date\"})\n",
        "paid_bankin4.sort_values(by=['date'], inplace=True, ascending=True)\n",
        "paid_bankin4.head()\n",
        "len(paid_bankin4)"
      ],
      "execution_count": null,
      "outputs": []
    },
    {
      "cell_type": "code",
      "metadata": {
        "id": "K21D1yMZMbx1"
      },
      "source": [
        "#for signup trend with drop down list\n",
        "signup_trend3=pd.concat([paid_cred4,paid_bankin4],axis=0)\n",
        "signup_trend3.head()"
      ],
      "execution_count": null,
      "outputs": []
    },
    {
      "cell_type": "code",
      "metadata": {
        "id": "May18cSKG5C4"
      },
      "source": [
        "#new leads\n",
        "#number of registrants that joined ON or AFTER 13 july\n",
        "free_reg_after=free_reg_after[free_reg_after[\"Email\"].isin(activecam_sub1.Email)]\n",
        "print(len(free_reg_after))\n",
        "free_reg_after=free_reg_after[~free_reg_after[\"Email\"].isin(activecam_sub.Email)]\n",
        "print(len(free_reg_after))"
      ],
      "execution_count": null,
      "outputs": []
    },
    {
      "cell_type": "code",
      "metadata": {
        "id": "zkT9ULvWgNt4"
      },
      "source": [
        "# Sign-up trend analysis (paid_bankin and paid_cred2)\n",
        "# All reformat into MM/DD\n",
        "# paid_bankin current timestamp format: M/D/YYYY HH:MM:SS\n",
        "# paid_cred2 current timestamp format: YYYY-MM-DD\n",
        "paid_cred_time = paid_cred[\"purchased_at\"]\n",
        "paid_bankin_time = paid_bankin[\"Timestamp\"]\n",
        "for i in range(len(paid_cred_time)):\n",
        "  d = datetime.datetime.strptime(paid_cred_time.iloc[i], \"%Y-%m-%d\")\n",
        "  paid_cred_time.iloc[i] = datetime.date.strftime(d, \"%m/%d\")\n",
        "for i in range(len(paid_bankin_time)):\n",
        "  d = datetime.datetime.strptime(paid_bankin_time.iloc[i], \"%m/%d/%Y %H:%M:%S\")\n",
        "  paid_bankin_time.iloc[i] = datetime.date.strftime(d, \"%m/%d\")\n",
        "paid_cred_time = paid_cred_time.to_frame()\n",
        "paid_cred_time = paid_cred_time.rename(columns = {\"purchased_at\": \"date\"})\n",
        "paid_bankin_time = paid_bankin_time.to_frame()\n",
        "paid_bankin_time = paid_bankin_time.rename(columns = {\"Timestamp\": \"date\"})"
      ],
      "execution_count": null,
      "outputs": []
    },
    {
      "cell_type": "code",
      "metadata": {
        "id": "JVZIjZn_tZ-k"
      },
      "source": [
        "# Group by date\n",
        "paid_cred_time[\"credit_card\"] = 1\n",
        "paid_cred_time = paid_cred_time.groupby([\"date\"]).sum()\n",
        "paid_bankin_time[\"bank_in\"] = 1\n",
        "paid_bankin_time = paid_bankin_time.groupby([\"date\"]).sum()"
      ],
      "execution_count": null,
      "outputs": []
    },
    {
      "cell_type": "code",
      "metadata": {
        "id": "nUbGFljDTah4"
      },
      "source": [
        "# Merge them together\n",
        "signup_trend = paid_cred_time.merge(paid_bankin_time, how = \"left\", on = \"date\")\n",
        "signup_trend = signup_trend.fillna(0)\n",
        "signup_trend.sort_values(by = \"date\")\n",
        "signup_trend = signup_trend.astype(int)\n",
        "signup_trend.reset_index(inplace = True)\n",
        "# Change the date format into DD/MM\n",
        "signup_trend['date'] = pd.to_datetime(signup_trend['date'], format = \"%m/%d\").dt.strftime(\"%d/%m\")\n",
        "signup_trend[\"total\"] = signup_trend[\"credit_card\"] + signup_trend[\"bank_in\"]\n",
        "signup_trend.head()"
      ],
      "execution_count": null,
      "outputs": []
    },
    {
      "cell_type": "code",
      "metadata": {
        "id": "yLoOeG_ne5X0"
      },
      "source": [
        "# To draw a trend line, we should include all dates from 21/6 until 1/8 in signup_trend\n",
        "alldate = pd.date_range(start=\"2021-06-21\",end=\"2021-08-30\").tolist()\n",
        "alldate = pd.DataFrame(alldate, columns = [\"date\"])\n",
        "alldate['date'] = pd.to_datetime(alldate['date'], format = \"%Y-%m-%d\").dt.strftime(\"%d/%m\")\n",
        "alldate.head()"
      ],
      "execution_count": null,
      "outputs": []
    },
    {
      "cell_type": "code",
      "metadata": {
        "id": "eiUORQ1vh14K"
      },
      "source": [
        "# Merge alldate and signup_trend\n",
        "signup_trend2 = pd.merge(alldate, signup_trend, how = \"left\")\n",
        "signup_trend2 = signup_trend2.fillna(0)\n",
        "signup_trend2[[\"credit_card\", \"bank_in\", \"total\"]] = signup_trend2[[\"credit_card\", \"bank_in\", \"total\"]].astype(int)\n",
        "signup_trend2.head()"
      ],
      "execution_count": null,
      "outputs": []
    },
    {
      "cell_type": "code",
      "metadata": {
        "id": "Lbu8fwTwjn_C"
      },
      "source": [
        "# signup_trend2 visualisation, suggest to use stacked bar chart\n",
        "signup_trend2[[\"date\", \"credit_card\", \"bank_in\"]].plot(x='date', kind='bar', stacked=True, title='Sign-up Trend Analysis', figsize = (12, 4))"
      ],
      "execution_count": null,
      "outputs": []
    },
    {
      "cell_type": "code",
      "metadata": {
        "id": "F-CR2xRLisx8"
      },
      "source": [
        "#signup trend for paid\n",
        "pp1_trend=pd.merge(pp_category1,signup_trend3,how='left')\n",
        "pp1_trend=pp1_trend[[\"date\",\"name\",\"email\",\"phone_num\",\"Category\"]]\n",
        "pp1_trend=pp1_trend.rename(columns={\"Category\":\"Method\"})\n",
        "pp1_trend['category']=\"p1:AC1,R1,AL1\"\n",
        "\n",
        "pp2_trend=pd.merge(pp_category2,signup_trend3,how='left')\n",
        "pp2_trend=pp2_trend[[\"date\",\"name\",\"email\",\"phone_num\",\"Category\"]]\n",
        "pp2_trend['category']=\"p2:AC1,R1,AL0\"\n",
        "pp2_trend=pp2_trend.rename(columns={\"Category\":\"Method\"})\n",
        "\n",
        "pp3_trend=pd.merge(pp_category3,signup_trend3,how='left')\n",
        "pp3_trend=pp3_trend[[\"date\",\"name\",\"email\",\"phone_num\",\"Category\"]]\n",
        "pp3_trend['category']=\"p3:AC1,R0,AL0\"\n",
        "pp3_trend=pp3_trend.rename(columns={\"Category\":\"Method\"})\n",
        "\n",
        "pp4_trend=pd.merge(pp_category4,signup_trend3,how='left')\n",
        "pp4_trend=pp4_trend[[\"date\",\"name\",\"email\",\"phone_num\",\"Category\"]]\n",
        "pp4_trend['category']=\"p4:AC0,R1,AL1\"\n",
        "pp4_trend=pp4_trend.rename(columns={\"Category\":\"Method\"})\n",
        "\n",
        "pp5_trend=pd.merge(pp_category5,signup_trend3,how='left')\n",
        "pp5_trend=pp5_trend[[\"date\",\"name\",\"email\",\"phone_num\",\"Category\"]]\n",
        "pp5_trend['category']=\"p5:AC0,R1,AL0\"\n",
        "pp5_trend=pp5_trend.rename(columns={\"Category\":\"Method\"})\n",
        "\n",
        "paid_trend=pd.concat([pp1_trend,pp2_trend,pp3_trend,pp4_trend,pp5_trend],axis=0)"
      ],
      "execution_count": null,
      "outputs": []
    },
    {
      "cell_type": "code",
      "metadata": {
        "id": "d27aHqqeM92s"
      },
      "source": [
        "#TO EXPORT- !!DATA HAS CHANGED !!\n",
        "\n",
        "#drive.mount('/drive', force_remount = True)\n",
        "#signup_trend3.to_csv('/drive/My Drive/signup_trend3.csv')\n",
        "#np_category1.to_csv('/drive/My Drive/np_category1.csv')\n",
        "#np_category2.to_csv('/drive/My Drive/np_category2.csv')\n",
        "#np_category4.to_csv('/drive/My Drive/np_category4.csv')\n",
        "#paid_all.to_csv('/drive/My Drive/paid_all.csv')\n",
        "#paid_bankin.to_csv('/drive/My Drive/paid_bankin.csv')\n",
        "#paid_cred2.to_csv('/drive/My Drive/paid_cred.csv')\n",
        "#paid_free.to_csv('/drive/My Drive/paid_free.csv')\n",
        "#p_category1.to_csv('/drive/My Drive/paid_category1.csv')\n",
        "#p_category2.to_csv('/drive/My Drive/paid_category2.csv')\n",
        "#p_category3.to_csv('/drive/My Drive/paid_category3.csv')\n",
        "#p_category4.to_csv('/drive/My Drive/paid_category4.csv')"
      ],
      "execution_count": null,
      "outputs": []
    },
    {
      "cell_type": "code",
      "metadata": {
        "id": "ZvxnlSQ9f9_l"
      },
      "source": [
        "# drive.mount('/drive', force_remount = True)\n",
        "# signup_trend2.to_csv('/drive/My Drive/signup_trend.csv')\n",
        "# signup_trend3.to_csv('/drive/My Drive/signup_trend3.csv')"
      ],
      "execution_count": null,
      "outputs": []
    },
    {
      "cell_type": "code",
      "metadata": {
        "id": "ZFbtcGba6xYj"
      },
      "source": [
        "#NEW DATA TO EXPORT\n",
        "#drive.mount('/drive', force_remount = True)\n",
        "#np_category4.to_csv('/drive/My Drive/np_category4.csv')\n",
        "#np_category5.to_csv('/drive/My Drive/np_category5.csv')\n",
        "#pp_category4.to_csv('/drive/My Drive/p_category4.csv')\n",
        "#pp_category5.to_csv('/drive/My Drive/p_category5.csv')\n",
        "#paid_trend.to_csv('/drive/My Drive/paid_trend.csv')\n",
        "#DONE"
      ],
      "execution_count": null,
      "outputs": []
    },
    {
      "cell_type": "code",
      "metadata": {
        "id": "TlvTDu-gEQuH"
      },
      "source": [
        "#drive.mount('/drive', force_remount = True)\n",
        "#free_reg_after.to_csv('/drive/My Drive/reg_after_13July.csv')"
      ],
      "execution_count": null,
      "outputs": []
    },
    {
      "cell_type": "code",
      "metadata": {
        "id": "TrCc-xNEyc-_"
      },
      "source": [
        "paid_after=paid_after[paid_after[\"email\"].isin(activecam_sub1.Email)]\n",
        "print(len(paid_after))\n",
        "paid_after=paid_after[~paid_after[\"email\"].isin(paid_all.Email)]\n",
        "paid_after = paid_after.drop_duplicates(subset=\"email\", keep=\"last\")  "
      ],
      "execution_count": null,
      "outputs": []
    }
  ]
}